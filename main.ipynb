{
 "cells": [
  {
   "cell_type": "markdown",
   "metadata": {},
   "source": [
    "## 1. Web-scraping"
   ]
  },
  {
   "cell_type": "code",
   "execution_count": 6,
   "metadata": {},
   "outputs": [
    {
     "name": "stdout",
     "output_type": "stream",
     "text": [
      "739\n"
     ]
    }
   ],
   "source": [
    "from selenium import webdriver\n",
    "from selenium.webdriver.common.by import By\n",
    "from selenium.webdriver.chrome.options import Options\n",
    "from selenium.webdriver.chrome.service import Service\n",
    "from selenium.webdriver.support.ui import WebDriverWait\n",
    "import time\n",
    "\n",
    "chrome_options = Options()\n",
    "# chrome_options.add_argument(\"--headless\")\n",
    "driver = webdriver.Chrome(options=chrome_options)\n",
    "url = 'https://www.mediaexpert.pl/agd/lodowki-i-zamrazarki/lodowki?limit=50'\n",
    "driver.get(url)\n",
    " \n",
    "time.sleep(2)\n",
    "btn_allow = driver.find_element(By.ID, \"onetrust-accept-btn-handler\")\n",
    "btn_allow.click()\n",
    "\n",
    "products_list = {}\n",
    "\n",
    "driver.maximize_window()\n",
    "\n",
    "for page in range(2, 18):\n",
    "    total_height = int(driver.execute_script(\"return document.body.scrollHeight\"))\n",
    "\n",
    "    for i in range(1, total_height, 2000):\n",
    "        driver.execute_script(\"window.scrollTo(0, {});\".format(i))\n",
    "    total_height = int(driver.execute_script(\"return document.body.scrollHeight\"))\n",
    "    for i in range(1, total_height, 900):\n",
    "        driver.execute_script(\"window.scrollTo(0, {});\".format(i))\n",
    "\n",
    "    products_info = driver.find_elements(By.CSS_SELECTOR, \".offer-box.is-ecatalog-loaded.cheaper-by-visible, .offer-box.is-ecatalog-loaded\")\n",
    "\n",
    "\n",
    "    for i, element in enumerate(products_info):\n",
    "        if element.text != '':\n",
    "            header = element.find_element(By.CSS_SELECTOR, 'a.is-animate.ui-link')\n",
    "            price = element.find_elements(By.CSS_SELECTOR, '.main-price.for-action-price.is-big, .main-price.is-big')\n",
    "            price = price[0].get_attribute('mainprice') if price else None\n",
    "            link = header.get_attribute('href')\n",
    "            energy_class = element.find_element(By.CSS_SELECTOR, '.icon-energy-class').get_attribute('alt')\n",
    "            attributes = element.find_element(By.CSS_SELECTOR, '.list.attributes').find_elements(By.CLASS_NAME, 'item')\n",
    "            products_list[link] = {'name': header.text, 'price': price, 'energy_class': energy_class}\n",
    "            \n",
    "            for attr in attributes:\n",
    "                name_elements = attr.find_elements(By.CSS_SELECTOR, '.name.attribute')\n",
    "                value_elements = attr.find_elements(By.CSS_SELECTOR, '.values.attribute')\n",
    "        \n",
    "                if name_elements and value_elements:\n",
    "                    name = name_elements[0].text\n",
    "                    value = value_elements[0].text\n",
    "                    products_list[link][name] = value\n",
    "\n",
    "    driver.get(url + f\"&page={page}\")\n",
    "print(len(products_list))\n",
    "\n",
    "driver.quit()\n"
   ]
  },
  {
   "cell_type": "code",
   "execution_count": 230,
   "metadata": {},
   "outputs": [],
   "source": [
    "import pandas as pd \n",
    "df = pd.DataFrame(products_list)\n",
    "df.to_csv('scrape_results.csv', index=True)"
   ]
  },
  {
   "cell_type": "code",
   "execution_count": 232,
   "metadata": {},
   "outputs": [
    {
     "data": {
      "text/html": [
       "<div>\n",
       "<style scoped>\n",
       "    .dataframe tbody tr th:only-of-type {\n",
       "        vertical-align: middle;\n",
       "    }\n",
       "\n",
       "    .dataframe tbody tr th {\n",
       "        vertical-align: top;\n",
       "    }\n",
       "\n",
       "    .dataframe thead th {\n",
       "        text-align: right;\n",
       "    }\n",
       "</style>\n",
       "<table border=\"1\" class=\"dataframe\">\n",
       "  <thead>\n",
       "    <tr style=\"text-align: right;\">\n",
       "      <th></th>\n",
       "      <th>https://www.mediaexpert.pl/agd/lodowki-i-zamrazarki/lodowki/lodowka-hisense-rb470n4efc1-no-frost-200cm-czarna</th>\n",
       "      <th>https://www.mediaexpert.pl/agd/lodowki-i-zamrazarki/lodowki/lodowka-samsung-rb38c774db1-ef-no-frost-203cm-grafitowa</th>\n",
       "      <th>https://www.mediaexpert.pl/agd/lodowki-i-zamrazarki/lodowki/lodowka-beko-b5rcna405hdxbr-beyond-no-frost-dystrybutor-wody-203-5cm-ciemny-inox</th>\n",
       "      <th>https://www.mediaexpert.pl/agd/lodowki-i-zamrazarki/lodowki/lodowka-samsung-rs65dg54r32ceo-side-by-side-no-frost-178cm-czarne-szklo-podajnik-wody-kostkarka</th>\n",
       "      <th>https://www.mediaexpert.pl/agd/lodowki-i-zamrazarki/lodowki/lodowka-grundig-gkpn66940lxrw-no-frost-203-5cm-ciemny-inox</th>\n",
       "      <th>https://www.mediaexpert.pl/agd/lodowki-i-zamrazarki/lodowki/lodowka-hisense-rm469n4afd1-no-frost-200cm-czarna</th>\n",
       "      <th>https://www.mediaexpert.pl/agd/lodowki-i-zamrazarki/lodowki/lodowka-gorenje-rf414eps4-143-6cm-inox</th>\n",
       "      <th>https://www.mediaexpert.pl/agd/lodowki-i-zamrazarki/lodowki/lodowka-beko-b5rcna406lxbw-beyond-harvestfresh-no-frost-203-5cm-platynowa</th>\n",
       "      <th>https://www.mediaexpert.pl/agd/lodowki-i-zamrazarki/lodowki/lodowka-hisense-rs818n4tie-side-by-side-no-frost-179cm-inox-kostkarka</th>\n",
       "      <th>https://www.mediaexpert.pl/agd/lodowki-i-zamrazarki/lodowki/lodowka-hisense-rf632n4wfe1-no-frost-200cm-czarna</th>\n",
       "      <th>...</th>\n",
       "      <th>https://www.mediaexpert.pl/agd/lodowki-i-zamrazarki/lodowki/lodowka-eta-storio-eta253290020e-192-cm-czarna</th>\n",
       "      <th>https://www.mediaexpert.pl/agd/lodowki-i-zamrazarki/lodowki/lodowka-lg-gsgv80epll-side-by-side-no-frost-179cm-czarna-kostkarka-podajnik-wody</th>\n",
       "      <th>https://www.mediaexpert.pl/agd/lodowki-i-zamrazarki/lodowki/lodowka-mpm-215-kb-38-e-150cm-biala</th>\n",
       "      <th>https://www.mediaexpert.pl/agd/lodowki-i-zamrazarki/lodowki/lodowka-indesit-si6-2-s-eu-167cm-srebrna</th>\n",
       "      <th>https://www.mediaexpert.pl/agd/lodowki-i-zamrazarki/lodowki/lodowka-indesit-li8-sn2e-k-1-no-frost-188-9cm-czarna</th>\n",
       "      <th>https://www.mediaexpert.pl/agd/lodowki-i-zamrazarki/lodowki/lodowka-lg-gbv7280dmb-no-frost-203cm-srebrna</th>\n",
       "      <th>https://www.mediaexpert.pl/agd/lodowki-i-zamrazarki/lodowki/lodowka-beko-b1rcna364w-no-frost-186-5cm-biala</th>\n",
       "      <th>https://www.mediaexpert.pl/agd/lodowki-i-zamrazarki/lodowki/lodowka-beko-b1rcna404w-no-frost-203-5cm-biala</th>\n",
       "      <th>https://www.mediaexpert.pl/agd/lodowki-i-zamrazarki/lodowki/lodowka-beko-b5rcna365hg-186-5cm-grafitowa</th>\n",
       "      <th>https://www.mediaexpert.pl/agd/lodowki-i-zamrazarki/lodowki/lodowka-samsung-bespoke-rb34a7b5e12-ef-no-frost-biala-185-3-cm</th>\n",
       "    </tr>\n",
       "  </thead>\n",
       "  <tbody>\n",
       "    <tr>\n",
       "      <th>name</th>\n",
       "      <td>Lodówka HISENSE RB470N4EFC1 No Frost 200cm Cza...</td>\n",
       "      <td>Lodówka SAMSUNG RB38C774DB1 EF AI No Frost 203...</td>\n",
       "      <td>Lodówka BEKO B5RCNA405HDXBR Beyond No Frost Dy...</td>\n",
       "      <td>Lodówka SAMSUNG RS65DG54R32CEO Side by Side AI...</td>\n",
       "      <td>Lodówka GRUNDIG GKPN66940LXRW No Frost 203.5cm...</td>\n",
       "      <td>Lodówka HISENSE RM469N4AFD1 3D No Frost 200cm ...</td>\n",
       "      <td>Lodówka GORENJE RF414EPS4 143.6cm Inox</td>\n",
       "      <td>Lodówka BEKO B5RCNA406LXBW Beyond HarvestFresh...</td>\n",
       "      <td>Lodówka HISENSE RS818N4TIE Side by Side No Fro...</td>\n",
       "      <td>Lodówka HISENSE RF632N4WFE1 4D SkyLine No fros...</td>\n",
       "      <td>...</td>\n",
       "      <td>Lodówka ETA Storio ETA253290020E 192 cm Czarna</td>\n",
       "      <td>Lodówka LG GSGV80EPLL Side by Side No Frost 17...</td>\n",
       "      <td>Lodówka MPM 215-KB-38/E 150cm Biała</td>\n",
       "      <td>Lodówka INDESIT SI6 2 S EU 167cm Srebrna</td>\n",
       "      <td>Lodówka INDESIT LI8 SN2E K 1 No Frost 188.9cm ...</td>\n",
       "      <td>Lodówka LG GBV7280DMB No Frost 203cm Srebrna</td>\n",
       "      <td>Lodówka BEKO B1RCNA364W No Frost 186.5cm Biała...</td>\n",
       "      <td>Lodówka BEKO B1RCNA404W No Frost 203.5cm Biała...</td>\n",
       "      <td>Lodówka BEKO B5RCNA365HG 186.5cm Grafitowa Aer...</td>\n",
       "      <td>Lodówka SAMSUNG BESPOKE RB34A7B5E12 EF No Fros...</td>\n",
       "    </tr>\n",
       "    <tr>\n",
       "      <th>price</th>\n",
       "      <td>319989</td>\n",
       "      <td>349989</td>\n",
       "      <td>279989</td>\n",
       "      <td>569600</td>\n",
       "      <td>299991</td>\n",
       "      <td>349999</td>\n",
       "      <td>119989</td>\n",
       "      <td>289989</td>\n",
       "      <td>529999</td>\n",
       "      <td>419989</td>\n",
       "      <td>...</td>\n",
       "      <td>NaN</td>\n",
       "      <td>NaN</td>\n",
       "      <td>NaN</td>\n",
       "      <td>NaN</td>\n",
       "      <td>NaN</td>\n",
       "      <td>NaN</td>\n",
       "      <td>NaN</td>\n",
       "      <td>NaN</td>\n",
       "      <td>NaN</td>\n",
       "      <td>NaN</td>\n",
       "    </tr>\n",
       "    <tr>\n",
       "      <th>energy_class</th>\n",
       "      <td>Klasa energetyczna C</td>\n",
       "      <td>Klasa energetyczna D</td>\n",
       "      <td>Klasa energetyczna D</td>\n",
       "      <td>Klasa energetyczna E</td>\n",
       "      <td>Klasa energetyczna C</td>\n",
       "      <td>Klasa energetyczna D</td>\n",
       "      <td>Klasa energetyczna E</td>\n",
       "      <td>Klasa energetyczna C</td>\n",
       "      <td>Klasa energetyczna E</td>\n",
       "      <td>Klasa energetyczna E</td>\n",
       "      <td>...</td>\n",
       "      <td>Klasa energetyczna E</td>\n",
       "      <td>Klasa energetyczna E</td>\n",
       "      <td>Klasa energetyczna E</td>\n",
       "      <td>Klasa energetyczna E</td>\n",
       "      <td>Klasa energetyczna E</td>\n",
       "      <td>Klasa energetyczna D</td>\n",
       "      <td>Klasa energetyczna E</td>\n",
       "      <td>Klasa energetyczna E</td>\n",
       "      <td>Klasa energetyczna D</td>\n",
       "      <td>Klasa energetyczna E</td>\n",
       "    </tr>\n",
       "    <tr>\n",
       "      <th>Wymiary (WxSxG) [cm]:</th>\n",
       "      <td>200 x 60 x 66.3</td>\n",
       "      <td>203 x 59.5 x 65.8</td>\n",
       "      <td>203.5 x 59.5 x 66.3</td>\n",
       "      <td>178 x 91.2 x 71.6</td>\n",
       "      <td>203.5 x 59.5 x 66.3</td>\n",
       "      <td>200 x 60 x 66.3</td>\n",
       "      <td>143.6 x 55 x 54.2</td>\n",
       "      <td>203.5 x 59.5 x 66.3</td>\n",
       "      <td>179 x 91 x 73</td>\n",
       "      <td>200 x 70.4 x 69.4</td>\n",
       "      <td>...</td>\n",
       "      <td>192 x 59.9 x 62.8</td>\n",
       "      <td>179 x 91.3 x 73.5</td>\n",
       "      <td>150 x 55 x 58</td>\n",
       "      <td>167 x 59.5 x 64.5</td>\n",
       "      <td>188.9 x 59.5 x 65.5</td>\n",
       "      <td>203 x 59.5 x 68.2</td>\n",
       "      <td>186.5 x 59.5 x 66.3</td>\n",
       "      <td>203.5 x 59.5 x 66.3</td>\n",
       "      <td>186.5 x 59.5 x 66.3</td>\n",
       "      <td>185.3 x 59.5 x 65.8</td>\n",
       "    </tr>\n",
       "    <tr>\n",
       "      <th>Szerokość z otwartymi drzwiami [cm]:</th>\n",
       "      <td>60</td>\n",
       "      <td>59.5</td>\n",
       "      <td>59.5</td>\n",
       "      <td>NaN</td>\n",
       "      <td>60</td>\n",
       "      <td>59.9</td>\n",
       "      <td>58</td>\n",
       "      <td>60</td>\n",
       "      <td>100</td>\n",
       "      <td>78</td>\n",
       "      <td>...</td>\n",
       "      <td>61.9</td>\n",
       "      <td>NaN</td>\n",
       "      <td>57</td>\n",
       "      <td>60</td>\n",
       "      <td>59.5</td>\n",
       "      <td>59.5</td>\n",
       "      <td>59.5</td>\n",
       "      <td>59.5</td>\n",
       "      <td>59.5</td>\n",
       "      <td>59.5</td>\n",
       "    </tr>\n",
       "    <tr>\n",
       "      <th>Pojemność [l]:</th>\n",
       "      <td>255 chłodziarka + 106 zamrażarka</td>\n",
       "      <td>276 chłodziarka + 114 zamrażarka</td>\n",
       "      <td>249 chłodziarka + 106 zamrażarka</td>\n",
       "      <td>417 chłodziarka + 218 zamrażarka</td>\n",
       "      <td>249 chłodziarka + 106 zamrażarka</td>\n",
       "      <td>255 chłodziarka + 113 zamrażarka</td>\n",
       "      <td>165 chłodziarka + 41 zamrażarka</td>\n",
       "      <td>249 chłodziarka + 106 zamrażarka</td>\n",
       "      <td>417 chłodziarka + 215 zamrażarka</td>\n",
       "      <td>336 chłodziarka + 149 zamrażarka</td>\n",
       "      <td>...</td>\n",
       "      <td>216 chłodziarka + 84 zamrażarka</td>\n",
       "      <td>416 chłodziarka + 219 zamrażarka</td>\n",
       "      <td>138 chłodziarka + 69 zamrażarka</td>\n",
       "      <td>323 chłodziarka</td>\n",
       "      <td>230 chłodziarka + 98 zamrażarka</td>\n",
       "      <td>277 chłodziarka + 110 zamrażarka</td>\n",
       "      <td>210 chłodziarka + 106 zamrażarka</td>\n",
       "      <td>249 chłodziarka + 106 zamrażarka</td>\n",
       "      <td>210 chłodziarka + 106 zamrażarka</td>\n",
       "      <td>230 chłodziarka + 114 zamrażarka</td>\n",
       "    </tr>\n",
       "    <tr>\n",
       "      <th>Roczne zużycie prądu:</th>\n",
       "      <td>169 kWh = 194.35 zł</td>\n",
       "      <td>211 kWh = 242.65 zł</td>\n",
       "      <td>205 kWh = 235.75 zł</td>\n",
       "      <td>345 kWh = 396.75 zł</td>\n",
       "      <td>170 kWh = 195.5 zł</td>\n",
       "      <td>219 kWh = 251.85 zł</td>\n",
       "      <td>176 kWh = 202.4 zł</td>\n",
       "      <td>170 kWh = 195.5 zł</td>\n",
       "      <td>346 kWh = 397.9 zł</td>\n",
       "      <td>295 kWh = 339.25 zł</td>\n",
       "      <td>...</td>\n",
       "      <td>219 kWh = 251.85 zł</td>\n",
       "      <td>350 kWh = 402.5 zł</td>\n",
       "      <td>205 kWh = 235.75 zł</td>\n",
       "      <td>113 kWh = 129.95 zł</td>\n",
       "      <td>248 kWh = 285.2 zł</td>\n",
       "      <td>217 kWh = 249.55 zł</td>\n",
       "      <td>247 kWh = 284.05 zł</td>\n",
       "      <td>256 kWh = 294.4 zł</td>\n",
       "      <td>198 kWh = 227.7 zł</td>\n",
       "      <td>254 kWh = 292.1 zł</td>\n",
       "    </tr>\n",
       "    <tr>\n",
       "      <th>Bezszronowa (No Frost):</th>\n",
       "      <td>Pełny No Frost</td>\n",
       "      <td>Pełny No Frost</td>\n",
       "      <td>Pełny No Frost</td>\n",
       "      <td>Pełny No Frost</td>\n",
       "      <td>Pełny No Frost</td>\n",
       "      <td>Pełny No Frost</td>\n",
       "      <td>Brak</td>\n",
       "      <td>Pełny No Frost</td>\n",
       "      <td>Pełny No Frost</td>\n",
       "      <td>Pełny No Frost</td>\n",
       "      <td>...</td>\n",
       "      <td>Brak</td>\n",
       "      <td>Pełny No Frost</td>\n",
       "      <td>Brak</td>\n",
       "      <td>Brak</td>\n",
       "      <td>Zamrażarka</td>\n",
       "      <td>Pełny No Frost</td>\n",
       "      <td>Pełny No Frost</td>\n",
       "      <td>Pełny No Frost</td>\n",
       "      <td>Pełny No Frost</td>\n",
       "      <td>NaN</td>\n",
       "    </tr>\n",
       "    <tr>\n",
       "      <th>Poziom hałasu [dB]:</th>\n",
       "      <td>NaN</td>\n",
       "      <td>NaN</td>\n",
       "      <td>NaN</td>\n",
       "      <td>NaN</td>\n",
       "      <td>NaN</td>\n",
       "      <td>NaN</td>\n",
       "      <td>NaN</td>\n",
       "      <td>NaN</td>\n",
       "      <td>NaN</td>\n",
       "      <td>NaN</td>\n",
       "      <td>...</td>\n",
       "      <td>NaN</td>\n",
       "      <td>NaN</td>\n",
       "      <td>NaN</td>\n",
       "      <td>NaN</td>\n",
       "      <td>NaN</td>\n",
       "      <td>NaN</td>\n",
       "      <td>NaN</td>\n",
       "      <td>NaN</td>\n",
       "      <td>NaN</td>\n",
       "      <td>NaN</td>\n",
       "    </tr>\n",
       "    <tr>\n",
       "      <th>Panel BESPOKE w zestawie:</th>\n",
       "      <td>NaN</td>\n",
       "      <td>NaN</td>\n",
       "      <td>NaN</td>\n",
       "      <td>NaN</td>\n",
       "      <td>NaN</td>\n",
       "      <td>NaN</td>\n",
       "      <td>NaN</td>\n",
       "      <td>NaN</td>\n",
       "      <td>NaN</td>\n",
       "      <td>NaN</td>\n",
       "      <td>...</td>\n",
       "      <td>NaN</td>\n",
       "      <td>NaN</td>\n",
       "      <td>NaN</td>\n",
       "      <td>NaN</td>\n",
       "      <td>NaN</td>\n",
       "      <td>NaN</td>\n",
       "      <td>NaN</td>\n",
       "      <td>NaN</td>\n",
       "      <td>NaN</td>\n",
       "      <td>Tak</td>\n",
       "    </tr>\n",
       "  </tbody>\n",
       "</table>\n",
       "<p>10 rows × 739 columns</p>\n",
       "</div>"
      ],
      "text/plain": [
       "                                     https://www.mediaexpert.pl/agd/lodowki-i-zamrazarki/lodowki/lodowka-hisense-rb470n4efc1-no-frost-200cm-czarna  \\\n",
       "name                                  Lodówka HISENSE RB470N4EFC1 No Frost 200cm Cza...                                                              \n",
       "price                                                                            319989                                                              \n",
       "energy_class                                                       Klasa energetyczna C                                                              \n",
       "Wymiary (WxSxG) [cm]:                                                   200 x 60 x 66.3                                                              \n",
       "Szerokość z otwartymi drzwiami [cm]:                                                 60                                                              \n",
       "Pojemność [l]:                                         255 chłodziarka + 106 zamrażarka                                                              \n",
       "Roczne zużycie prądu:                                               169 kWh = 194.35 zł                                                              \n",
       "Bezszronowa (No Frost):                                                  Pełny No Frost                                                              \n",
       "Poziom hałasu [dB]:                                                                 NaN                                                              \n",
       "Panel BESPOKE w zestawie:                                                           NaN                                                              \n",
       "\n",
       "                                     https://www.mediaexpert.pl/agd/lodowki-i-zamrazarki/lodowki/lodowka-samsung-rb38c774db1-ef-no-frost-203cm-grafitowa  \\\n",
       "name                                  Lodówka SAMSUNG RB38C774DB1 EF AI No Frost 203...                                                                    \n",
       "price                                                                            349989                                                                    \n",
       "energy_class                                                       Klasa energetyczna D                                                                    \n",
       "Wymiary (WxSxG) [cm]:                                                 203 x 59.5 x 65.8                                                                    \n",
       "Szerokość z otwartymi drzwiami [cm]:                                               59.5                                                                    \n",
       "Pojemność [l]:                                         276 chłodziarka + 114 zamrażarka                                                                    \n",
       "Roczne zużycie prądu:                                               211 kWh = 242.65 zł                                                                    \n",
       "Bezszronowa (No Frost):                                                  Pełny No Frost                                                                    \n",
       "Poziom hałasu [dB]:                                                                 NaN                                                                    \n",
       "Panel BESPOKE w zestawie:                                                           NaN                                                                    \n",
       "\n",
       "                                     https://www.mediaexpert.pl/agd/lodowki-i-zamrazarki/lodowki/lodowka-beko-b5rcna405hdxbr-beyond-no-frost-dystrybutor-wody-203-5cm-ciemny-inox  \\\n",
       "name                                  Lodówka BEKO B5RCNA405HDXBR Beyond No Frost Dy...                                                                                             \n",
       "price                                                                            279989                                                                                             \n",
       "energy_class                                                       Klasa energetyczna D                                                                                             \n",
       "Wymiary (WxSxG) [cm]:                                               203.5 x 59.5 x 66.3                                                                                             \n",
       "Szerokość z otwartymi drzwiami [cm]:                                               59.5                                                                                             \n",
       "Pojemność [l]:                                         249 chłodziarka + 106 zamrażarka                                                                                             \n",
       "Roczne zużycie prądu:                                               205 kWh = 235.75 zł                                                                                             \n",
       "Bezszronowa (No Frost):                                                  Pełny No Frost                                                                                             \n",
       "Poziom hałasu [dB]:                                                                 NaN                                                                                             \n",
       "Panel BESPOKE w zestawie:                                                           NaN                                                                                             \n",
       "\n",
       "                                     https://www.mediaexpert.pl/agd/lodowki-i-zamrazarki/lodowki/lodowka-samsung-rs65dg54r32ceo-side-by-side-no-frost-178cm-czarne-szklo-podajnik-wody-kostkarka  \\\n",
       "name                                  Lodówka SAMSUNG RS65DG54R32CEO Side by Side AI...                                                                                                            \n",
       "price                                                                            569600                                                                                                            \n",
       "energy_class                                                       Klasa energetyczna E                                                                                                            \n",
       "Wymiary (WxSxG) [cm]:                                                 178 x 91.2 x 71.6                                                                                                            \n",
       "Szerokość z otwartymi drzwiami [cm]:                                                NaN                                                                                                            \n",
       "Pojemność [l]:                                         417 chłodziarka + 218 zamrażarka                                                                                                            \n",
       "Roczne zużycie prądu:                                               345 kWh = 396.75 zł                                                                                                            \n",
       "Bezszronowa (No Frost):                                                  Pełny No Frost                                                                                                            \n",
       "Poziom hałasu [dB]:                                                                 NaN                                                                                                            \n",
       "Panel BESPOKE w zestawie:                                                           NaN                                                                                                            \n",
       "\n",
       "                                     https://www.mediaexpert.pl/agd/lodowki-i-zamrazarki/lodowki/lodowka-grundig-gkpn66940lxrw-no-frost-203-5cm-ciemny-inox  \\\n",
       "name                                  Lodówka GRUNDIG GKPN66940LXRW No Frost 203.5cm...                                                                       \n",
       "price                                                                            299991                                                                       \n",
       "energy_class                                                       Klasa energetyczna C                                                                       \n",
       "Wymiary (WxSxG) [cm]:                                               203.5 x 59.5 x 66.3                                                                       \n",
       "Szerokość z otwartymi drzwiami [cm]:                                                 60                                                                       \n",
       "Pojemność [l]:                                         249 chłodziarka + 106 zamrażarka                                                                       \n",
       "Roczne zużycie prądu:                                                170 kWh = 195.5 zł                                                                       \n",
       "Bezszronowa (No Frost):                                                  Pełny No Frost                                                                       \n",
       "Poziom hałasu [dB]:                                                                 NaN                                                                       \n",
       "Panel BESPOKE w zestawie:                                                           NaN                                                                       \n",
       "\n",
       "                                     https://www.mediaexpert.pl/agd/lodowki-i-zamrazarki/lodowki/lodowka-hisense-rm469n4afd1-no-frost-200cm-czarna  \\\n",
       "name                                  Lodówka HISENSE RM469N4AFD1 3D No Frost 200cm ...                                                              \n",
       "price                                                                            349999                                                              \n",
       "energy_class                                                       Klasa energetyczna D                                                              \n",
       "Wymiary (WxSxG) [cm]:                                                   200 x 60 x 66.3                                                              \n",
       "Szerokość z otwartymi drzwiami [cm]:                                               59.9                                                              \n",
       "Pojemność [l]:                                         255 chłodziarka + 113 zamrażarka                                                              \n",
       "Roczne zużycie prądu:                                               219 kWh = 251.85 zł                                                              \n",
       "Bezszronowa (No Frost):                                                  Pełny No Frost                                                              \n",
       "Poziom hałasu [dB]:                                                                 NaN                                                              \n",
       "Panel BESPOKE w zestawie:                                                           NaN                                                              \n",
       "\n",
       "                                     https://www.mediaexpert.pl/agd/lodowki-i-zamrazarki/lodowki/lodowka-gorenje-rf414eps4-143-6cm-inox  \\\n",
       "name                                             Lodówka GORENJE RF414EPS4 143.6cm Inox                                                   \n",
       "price                                                                            119989                                                   \n",
       "energy_class                                                       Klasa energetyczna E                                                   \n",
       "Wymiary (WxSxG) [cm]:                                                 143.6 x 55 x 54.2                                                   \n",
       "Szerokość z otwartymi drzwiami [cm]:                                                 58                                                   \n",
       "Pojemność [l]:                                          165 chłodziarka + 41 zamrażarka                                                   \n",
       "Roczne zużycie prądu:                                                176 kWh = 202.4 zł                                                   \n",
       "Bezszronowa (No Frost):                                                            Brak                                                   \n",
       "Poziom hałasu [dB]:                                                                 NaN                                                   \n",
       "Panel BESPOKE w zestawie:                                                           NaN                                                   \n",
       "\n",
       "                                     https://www.mediaexpert.pl/agd/lodowki-i-zamrazarki/lodowki/lodowka-beko-b5rcna406lxbw-beyond-harvestfresh-no-frost-203-5cm-platynowa  \\\n",
       "name                                  Lodówka BEKO B5RCNA406LXBW Beyond HarvestFresh...                                                                                      \n",
       "price                                                                            289989                                                                                      \n",
       "energy_class                                                       Klasa energetyczna C                                                                                      \n",
       "Wymiary (WxSxG) [cm]:                                               203.5 x 59.5 x 66.3                                                                                      \n",
       "Szerokość z otwartymi drzwiami [cm]:                                                 60                                                                                      \n",
       "Pojemność [l]:                                         249 chłodziarka + 106 zamrażarka                                                                                      \n",
       "Roczne zużycie prądu:                                                170 kWh = 195.5 zł                                                                                      \n",
       "Bezszronowa (No Frost):                                                  Pełny No Frost                                                                                      \n",
       "Poziom hałasu [dB]:                                                                 NaN                                                                                      \n",
       "Panel BESPOKE w zestawie:                                                           NaN                                                                                      \n",
       "\n",
       "                                     https://www.mediaexpert.pl/agd/lodowki-i-zamrazarki/lodowki/lodowka-hisense-rs818n4tie-side-by-side-no-frost-179cm-inox-kostkarka  \\\n",
       "name                                  Lodówka HISENSE RS818N4TIE Side by Side No Fro...                                                                                  \n",
       "price                                                                            529999                                                                                  \n",
       "energy_class                                                       Klasa energetyczna E                                                                                  \n",
       "Wymiary (WxSxG) [cm]:                                                     179 x 91 x 73                                                                                  \n",
       "Szerokość z otwartymi drzwiami [cm]:                                                100                                                                                  \n",
       "Pojemność [l]:                                         417 chłodziarka + 215 zamrażarka                                                                                  \n",
       "Roczne zużycie prądu:                                                346 kWh = 397.9 zł                                                                                  \n",
       "Bezszronowa (No Frost):                                                  Pełny No Frost                                                                                  \n",
       "Poziom hałasu [dB]:                                                                 NaN                                                                                  \n",
       "Panel BESPOKE w zestawie:                                                           NaN                                                                                  \n",
       "\n",
       "                                     https://www.mediaexpert.pl/agd/lodowki-i-zamrazarki/lodowki/lodowka-hisense-rf632n4wfe1-no-frost-200cm-czarna  \\\n",
       "name                                  Lodówka HISENSE RF632N4WFE1 4D SkyLine No fros...                                                              \n",
       "price                                                                            419989                                                              \n",
       "energy_class                                                       Klasa energetyczna E                                                              \n",
       "Wymiary (WxSxG) [cm]:                                                 200 x 70.4 x 69.4                                                              \n",
       "Szerokość z otwartymi drzwiami [cm]:                                                 78                                                              \n",
       "Pojemność [l]:                                         336 chłodziarka + 149 zamrażarka                                                              \n",
       "Roczne zużycie prądu:                                               295 kWh = 339.25 zł                                                              \n",
       "Bezszronowa (No Frost):                                                  Pełny No Frost                                                              \n",
       "Poziom hałasu [dB]:                                                                 NaN                                                              \n",
       "Panel BESPOKE w zestawie:                                                           NaN                                                              \n",
       "\n",
       "                                      ...  \\\n",
       "name                                  ...   \n",
       "price                                 ...   \n",
       "energy_class                          ...   \n",
       "Wymiary (WxSxG) [cm]:                 ...   \n",
       "Szerokość z otwartymi drzwiami [cm]:  ...   \n",
       "Pojemność [l]:                        ...   \n",
       "Roczne zużycie prądu:                 ...   \n",
       "Bezszronowa (No Frost):               ...   \n",
       "Poziom hałasu [dB]:                   ...   \n",
       "Panel BESPOKE w zestawie:             ...   \n",
       "\n",
       "                                     https://www.mediaexpert.pl/agd/lodowki-i-zamrazarki/lodowki/lodowka-eta-storio-eta253290020e-192-cm-czarna  \\\n",
       "name                                     Lodówka ETA Storio ETA253290020E 192 cm Czarna                                                           \n",
       "price                                                                               NaN                                                           \n",
       "energy_class                                                       Klasa energetyczna E                                                           \n",
       "Wymiary (WxSxG) [cm]:                                                 192 x 59.9 x 62.8                                                           \n",
       "Szerokość z otwartymi drzwiami [cm]:                                               61.9                                                           \n",
       "Pojemność [l]:                                          216 chłodziarka + 84 zamrażarka                                                           \n",
       "Roczne zużycie prądu:                                               219 kWh = 251.85 zł                                                           \n",
       "Bezszronowa (No Frost):                                                            Brak                                                           \n",
       "Poziom hałasu [dB]:                                                                 NaN                                                           \n",
       "Panel BESPOKE w zestawie:                                                           NaN                                                           \n",
       "\n",
       "                                     https://www.mediaexpert.pl/agd/lodowki-i-zamrazarki/lodowki/lodowka-lg-gsgv80epll-side-by-side-no-frost-179cm-czarna-kostkarka-podajnik-wody  \\\n",
       "name                                  Lodówka LG GSGV80EPLL Side by Side No Frost 17...                                                                                             \n",
       "price                                                                               NaN                                                                                             \n",
       "energy_class                                                       Klasa energetyczna E                                                                                             \n",
       "Wymiary (WxSxG) [cm]:                                                 179 x 91.3 x 73.5                                                                                             \n",
       "Szerokość z otwartymi drzwiami [cm]:                                                NaN                                                                                             \n",
       "Pojemność [l]:                                         416 chłodziarka + 219 zamrażarka                                                                                             \n",
       "Roczne zużycie prądu:                                                350 kWh = 402.5 zł                                                                                             \n",
       "Bezszronowa (No Frost):                                                  Pełny No Frost                                                                                             \n",
       "Poziom hałasu [dB]:                                                                 NaN                                                                                             \n",
       "Panel BESPOKE w zestawie:                                                           NaN                                                                                             \n",
       "\n",
       "                                     https://www.mediaexpert.pl/agd/lodowki-i-zamrazarki/lodowki/lodowka-mpm-215-kb-38-e-150cm-biala  \\\n",
       "name                                                Lodówka MPM 215-KB-38/E 150cm Biała                                                \n",
       "price                                                                               NaN                                                \n",
       "energy_class                                                       Klasa energetyczna E                                                \n",
       "Wymiary (WxSxG) [cm]:                                                     150 x 55 x 58                                                \n",
       "Szerokość z otwartymi drzwiami [cm]:                                                 57                                                \n",
       "Pojemność [l]:                                          138 chłodziarka + 69 zamrażarka                                                \n",
       "Roczne zużycie prądu:                                               205 kWh = 235.75 zł                                                \n",
       "Bezszronowa (No Frost):                                                            Brak                                                \n",
       "Poziom hałasu [dB]:                                                                 NaN                                                \n",
       "Panel BESPOKE w zestawie:                                                           NaN                                                \n",
       "\n",
       "                                     https://www.mediaexpert.pl/agd/lodowki-i-zamrazarki/lodowki/lodowka-indesit-si6-2-s-eu-167cm-srebrna  \\\n",
       "name                                           Lodówka INDESIT SI6 2 S EU 167cm Srebrna                                                     \n",
       "price                                                                               NaN                                                     \n",
       "energy_class                                                       Klasa energetyczna E                                                     \n",
       "Wymiary (WxSxG) [cm]:                                                 167 x 59.5 x 64.5                                                     \n",
       "Szerokość z otwartymi drzwiami [cm]:                                                 60                                                     \n",
       "Pojemność [l]:                                                          323 chłodziarka                                                     \n",
       "Roczne zużycie prądu:                                               113 kWh = 129.95 zł                                                     \n",
       "Bezszronowa (No Frost):                                                            Brak                                                     \n",
       "Poziom hałasu [dB]:                                                                 NaN                                                     \n",
       "Panel BESPOKE w zestawie:                                                           NaN                                                     \n",
       "\n",
       "                                     https://www.mediaexpert.pl/agd/lodowki-i-zamrazarki/lodowki/lodowka-indesit-li8-sn2e-k-1-no-frost-188-9cm-czarna  \\\n",
       "name                                  Lodówka INDESIT LI8 SN2E K 1 No Frost 188.9cm ...                                                                 \n",
       "price                                                                               NaN                                                                 \n",
       "energy_class                                                       Klasa energetyczna E                                                                 \n",
       "Wymiary (WxSxG) [cm]:                                               188.9 x 59.5 x 65.5                                                                 \n",
       "Szerokość z otwartymi drzwiami [cm]:                                               59.5                                                                 \n",
       "Pojemność [l]:                                          230 chłodziarka + 98 zamrażarka                                                                 \n",
       "Roczne zużycie prądu:                                                248 kWh = 285.2 zł                                                                 \n",
       "Bezszronowa (No Frost):                                                      Zamrażarka                                                                 \n",
       "Poziom hałasu [dB]:                                                                 NaN                                                                 \n",
       "Panel BESPOKE w zestawie:                                                           NaN                                                                 \n",
       "\n",
       "                                     https://www.mediaexpert.pl/agd/lodowki-i-zamrazarki/lodowki/lodowka-lg-gbv7280dmb-no-frost-203cm-srebrna  \\\n",
       "name                                       Lodówka LG GBV7280DMB No Frost 203cm Srebrna                                                         \n",
       "price                                                                               NaN                                                         \n",
       "energy_class                                                       Klasa energetyczna D                                                         \n",
       "Wymiary (WxSxG) [cm]:                                                 203 x 59.5 x 68.2                                                         \n",
       "Szerokość z otwartymi drzwiami [cm]:                                               59.5                                                         \n",
       "Pojemność [l]:                                         277 chłodziarka + 110 zamrażarka                                                         \n",
       "Roczne zużycie prądu:                                               217 kWh = 249.55 zł                                                         \n",
       "Bezszronowa (No Frost):                                                  Pełny No Frost                                                         \n",
       "Poziom hałasu [dB]:                                                                 NaN                                                         \n",
       "Panel BESPOKE w zestawie:                                                           NaN                                                         \n",
       "\n",
       "                                     https://www.mediaexpert.pl/agd/lodowki-i-zamrazarki/lodowki/lodowka-beko-b1rcna364w-no-frost-186-5cm-biala  \\\n",
       "name                                  Lodówka BEKO B1RCNA364W No Frost 186.5cm Biała...                                                           \n",
       "price                                                                               NaN                                                           \n",
       "energy_class                                                       Klasa energetyczna E                                                           \n",
       "Wymiary (WxSxG) [cm]:                                               186.5 x 59.5 x 66.3                                                           \n",
       "Szerokość z otwartymi drzwiami [cm]:                                               59.5                                                           \n",
       "Pojemność [l]:                                         210 chłodziarka + 106 zamrażarka                                                           \n",
       "Roczne zużycie prądu:                                               247 kWh = 284.05 zł                                                           \n",
       "Bezszronowa (No Frost):                                                  Pełny No Frost                                                           \n",
       "Poziom hałasu [dB]:                                                                 NaN                                                           \n",
       "Panel BESPOKE w zestawie:                                                           NaN                                                           \n",
       "\n",
       "                                     https://www.mediaexpert.pl/agd/lodowki-i-zamrazarki/lodowki/lodowka-beko-b1rcna404w-no-frost-203-5cm-biala  \\\n",
       "name                                  Lodówka BEKO B1RCNA404W No Frost 203.5cm Biała...                                                           \n",
       "price                                                                               NaN                                                           \n",
       "energy_class                                                       Klasa energetyczna E                                                           \n",
       "Wymiary (WxSxG) [cm]:                                               203.5 x 59.5 x 66.3                                                           \n",
       "Szerokość z otwartymi drzwiami [cm]:                                               59.5                                                           \n",
       "Pojemność [l]:                                         249 chłodziarka + 106 zamrażarka                                                           \n",
       "Roczne zużycie prądu:                                                256 kWh = 294.4 zł                                                           \n",
       "Bezszronowa (No Frost):                                                  Pełny No Frost                                                           \n",
       "Poziom hałasu [dB]:                                                                 NaN                                                           \n",
       "Panel BESPOKE w zestawie:                                                           NaN                                                           \n",
       "\n",
       "                                     https://www.mediaexpert.pl/agd/lodowki-i-zamrazarki/lodowki/lodowka-beko-b5rcna365hg-186-5cm-grafitowa  \\\n",
       "name                                  Lodówka BEKO B5RCNA365HG 186.5cm Grafitowa Aer...                                                       \n",
       "price                                                                               NaN                                                       \n",
       "energy_class                                                       Klasa energetyczna D                                                       \n",
       "Wymiary (WxSxG) [cm]:                                               186.5 x 59.5 x 66.3                                                       \n",
       "Szerokość z otwartymi drzwiami [cm]:                                               59.5                                                       \n",
       "Pojemność [l]:                                         210 chłodziarka + 106 zamrażarka                                                       \n",
       "Roczne zużycie prądu:                                                198 kWh = 227.7 zł                                                       \n",
       "Bezszronowa (No Frost):                                                  Pełny No Frost                                                       \n",
       "Poziom hałasu [dB]:                                                                 NaN                                                       \n",
       "Panel BESPOKE w zestawie:                                                           NaN                                                       \n",
       "\n",
       "                                     https://www.mediaexpert.pl/agd/lodowki-i-zamrazarki/lodowki/lodowka-samsung-bespoke-rb34a7b5e12-ef-no-frost-biala-185-3-cm  \n",
       "name                                  Lodówka SAMSUNG BESPOKE RB34A7B5E12 EF No Fros...                                                                          \n",
       "price                                                                               NaN                                                                          \n",
       "energy_class                                                       Klasa energetyczna E                                                                          \n",
       "Wymiary (WxSxG) [cm]:                                               185.3 x 59.5 x 65.8                                                                          \n",
       "Szerokość z otwartymi drzwiami [cm]:                                               59.5                                                                          \n",
       "Pojemność [l]:                                         230 chłodziarka + 114 zamrażarka                                                                          \n",
       "Roczne zużycie prądu:                                                254 kWh = 292.1 zł                                                                          \n",
       "Bezszronowa (No Frost):                                                             NaN                                                                          \n",
       "Poziom hałasu [dB]:                                                                 NaN                                                                          \n",
       "Panel BESPOKE w zestawie:                                                           Tak                                                                          \n",
       "\n",
       "[10 rows x 739 columns]"
      ]
     },
     "execution_count": 232,
     "metadata": {},
     "output_type": "execute_result"
    }
   ],
   "source": [
    "df = pd.read_csv('scrape_results.csv', index_col=0)\n",
    "df"
   ]
  },
  {
   "cell_type": "markdown",
   "metadata": {},
   "source": [
    "# 2. Czyszczenie danych"
   ]
  },
  {
   "cell_type": "code",
   "execution_count": 3,
   "metadata": {},
   "outputs": [
    {
     "name": "stdout",
     "output_type": "stream",
     "text": [
      "<class 'pandas.core.frame.DataFrame'>\n",
      "Index: 689 entries, 0 to 689\n",
      "Data columns (total 14 columns):\n",
      " #   Column                    Non-Null Count  Dtype   \n",
      "---  ------                    --------------  -----   \n",
      " 0   link                      689 non-null    object  \n",
      " 1   name                      689 non-null    object  \n",
      " 2   price                     689 non-null    float64 \n",
      " 3   energy_class              689 non-null    category\n",
      " 4   width_opened_doors        689 non-null    float64 \n",
      " 5   annual_power_consumption  689 non-null    float64 \n",
      " 6   no_frost                  689 non-null    category\n",
      " 7   db                        689 non-null    float64 \n",
      " 8   has_bespoke_panel         689 non-null    category\n",
      " 9   fridge_cap                689 non-null    float64 \n",
      " 10  freezer_cap               689 non-null    float64 \n",
      " 11  height                    689 non-null    float64 \n",
      " 12  width                     689 non-null    float64 \n",
      " 13  depth                     689 non-null    float64 \n",
      "dtypes: category(3), float64(9), object(2)\n",
      "memory usage: 67.1+ KB\n"
     ]
    },
    {
     "data": {
      "text/plain": [
       "link                        689\n",
       "name                        689\n",
       "price                       423\n",
       "energy_class                  6\n",
       "width_opened_doors          128\n",
       "annual_power_consumption    197\n",
       "no_frost                      3\n",
       "db                            9\n",
       "has_bespoke_panel             2\n",
       "fridge_cap                  189\n",
       "freezer_cap                 135\n",
       "height                      133\n",
       "width                        61\n",
       "depth                       121\n",
       "dtype: int64"
      ]
     },
     "execution_count": 3,
     "metadata": {},
     "output_type": "execute_result"
    }
   ],
   "source": [
    "import pandas as pd\n",
    "df = pd.read_csv('scrape_results.csv', index_col=0)\n",
    "df = df.T\n",
    "df.reset_index(inplace=True)\n",
    "df.rename(columns={'index': 'link', 'Szerokość z otwartymi drzwiami [cm]:': 'width_opened_doors',\n",
    "                   'Pojemność [l]:': 'capacity', 'Roczne zużycie prądu:': 'annual_power_consumption',\n",
    "                   'Bezszronowa (No Frost):': 'no_frost', 'Poziom hałasu [dB]:': 'db',\n",
    "                   'Panel BESPOKE w zestawie:': 'has_bespoke_panel'}, inplace=True)\n",
    "\n",
    "if 'energy_class' in df.columns:\n",
    "    df['energy_class'] = df['energy_class'].str.replace(\"Klasa energetyczna \", \"\", regex=False)\n",
    "\n",
    "df = df.dropna(subset=['capacity'])\n",
    "df[['fridge_cap', 'freezer_cap']] = df['capacity'].str.extract(r'(\\d+)\\s*chłodziarka(?:\\s*\\+\\s*(\\d+)\\s*zamrażarka)?')\n",
    "df['freezer_cap'] = df['freezer_cap'].fillna(0).astype(float)\n",
    "df['fridge_cap'] = df['fridge_cap'].astype(float)\n",
    "df.drop(columns=['capacity'], inplace=True)\n",
    "    \n",
    "if 'Wymiary (WxSxG) [cm]:' in df.columns:\n",
    "    df[['height', 'width', 'depth']] = df['Wymiary (WxSxG) [cm]:'].str.extract(r'(\\d+(?:\\.\\d+)?)\\s*x\\s*(\\d+(?:\\.\\d+)?)\\s*x\\s*(\\d+(?:\\.\\d+)?)')\n",
    "    df.drop(columns=['Wymiary (WxSxG) [cm]:'], inplace=True)\n",
    "\n",
    "df['annual_power_consumption'] = df['annual_power_consumption'].str.split(' kWh').str[0]\n",
    "\n",
    "for col in ['price', 'height', 'width', 'depth', 'width_opened_doors', 'db', 'annual_power_consumption']:\n",
    "    if col in df.columns:\n",
    "        df[col] = pd.to_numeric(df[col], errors='coerce')\n",
    "        if col == 'price':\n",
    "            df[col] = df[col]/100\n",
    "\n",
    "# no price means product unavailable\n",
    "if 'price' in df.columns:\n",
    "    df = df.dropna(subset=['price'])\n",
    "# it is usually the same as width\n",
    "df['width_opened_doors'] = df['width_opened_doors'].fillna(df['width'])\n",
    "\n",
    "df['no_frost'] = df['no_frost'].fillna('Brak')\n",
    "df['db'] = df['db'].fillna(df['db'].median())\n",
    "df['has_bespoke_panel'] = df['has_bespoke_panel'].map({'Tak': 1, 'Nie': 0})\n",
    "df['has_bespoke_panel'] = df['has_bespoke_panel'].fillna(0).astype(int)\n",
    "\n",
    "df[\"no_frost\"] = df[\"no_frost\"].map({\n",
    "    \"Pełny No Frost\": 1,\n",
    "    \"Chłodziarka\": 0.5,\n",
    "    \"Zamrażarka\": 0.5,\n",
    "    \"Brak\": 0\n",
    "})\n",
    "\n",
    "energy_map = {\n",
    "    \"A\": 1, \"B\": 2, \"C\": 3, \"D\": 4, \n",
    "    \"E\": 5, \"F\": 6\n",
    "    }\n",
    "\n",
    "df[\"energy_class\"] = df[\"energy_class\"].map(energy_map)\n",
    "\n",
    "## change to categories\n",
    "for col in ['has_bespoke_panel', 'no_frost', 'energy_class']:\n",
    "    if col in df.columns:\n",
    "        df[col] = df[col].astype('category')\n",
    "\n",
    "df = df.drop_duplicates()\n",
    "df.info()\n",
    "df.nunique()\n"
   ]
  },
  {
   "cell_type": "code",
   "execution_count": 4,
   "metadata": {},
   "outputs": [
    {
     "data": {
      "text/html": [
       "<div>\n",
       "<style scoped>\n",
       "    .dataframe tbody tr th:only-of-type {\n",
       "        vertical-align: middle;\n",
       "    }\n",
       "\n",
       "    .dataframe tbody tr th {\n",
       "        vertical-align: top;\n",
       "    }\n",
       "\n",
       "    .dataframe thead th {\n",
       "        text-align: right;\n",
       "    }\n",
       "</style>\n",
       "<table border=\"1\" class=\"dataframe\">\n",
       "  <thead>\n",
       "    <tr style=\"text-align: right;\">\n",
       "      <th></th>\n",
       "      <th>link</th>\n",
       "      <th>name</th>\n",
       "      <th>price</th>\n",
       "      <th>energy_class</th>\n",
       "      <th>width_opened_doors</th>\n",
       "      <th>annual_power_consumption</th>\n",
       "      <th>no_frost</th>\n",
       "      <th>db</th>\n",
       "      <th>has_bespoke_panel</th>\n",
       "      <th>fridge_cap</th>\n",
       "      <th>freezer_cap</th>\n",
       "      <th>height</th>\n",
       "      <th>width</th>\n",
       "      <th>depth</th>\n",
       "    </tr>\n",
       "  </thead>\n",
       "  <tbody>\n",
       "    <tr>\n",
       "      <th>336</th>\n",
       "      <td>https://www.mediaexpert.pl/agd/lodowki-i-zamra...</td>\n",
       "      <td>Lodówka MPM 311-FF-58 No Frost 196cm Czarna</td>\n",
       "      <td>1999.99</td>\n",
       "      <td>5</td>\n",
       "      <td>56.5</td>\n",
       "      <td>211.0</td>\n",
       "      <td>1.0</td>\n",
       "      <td>38.0</td>\n",
       "      <td>0</td>\n",
       "      <td>202.0</td>\n",
       "      <td>64.0</td>\n",
       "      <td>196.0</td>\n",
       "      <td>54.4</td>\n",
       "      <td>57.3</td>\n",
       "    </tr>\n",
       "    <tr>\n",
       "      <th>263</th>\n",
       "      <td>https://www.mediaexpert.pl/agd/lodowki-i-zamra...</td>\n",
       "      <td>Lodówka HISENSE RB440N4GWD No frost 200.4cm Bi...</td>\n",
       "      <td>2999.89</td>\n",
       "      <td>4</td>\n",
       "      <td>59.5</td>\n",
       "      <td>197.0</td>\n",
       "      <td>1.0</td>\n",
       "      <td>38.0</td>\n",
       "      <td>0</td>\n",
       "      <td>238.0</td>\n",
       "      <td>98.0</td>\n",
       "      <td>200.4</td>\n",
       "      <td>59.5</td>\n",
       "      <td>59.0</td>\n",
       "    </tr>\n",
       "    <tr>\n",
       "      <th>259</th>\n",
       "      <td>https://www.mediaexpert.pl/agd/lodowki-i-zamra...</td>\n",
       "      <td>Lodówka WHIRLPOOL W7X 93T KS No frost 202.7cm ...</td>\n",
       "      <td>2397.00</td>\n",
       "      <td>4</td>\n",
       "      <td>59.6</td>\n",
       "      <td>203.0</td>\n",
       "      <td>1.0</td>\n",
       "      <td>34.0</td>\n",
       "      <td>0</td>\n",
       "      <td>263.0</td>\n",
       "      <td>104.0</td>\n",
       "      <td>202.7</td>\n",
       "      <td>59.6</td>\n",
       "      <td>67.8</td>\n",
       "    </tr>\n",
       "    <tr>\n",
       "      <th>26</th>\n",
       "      <td>https://www.mediaexpert.pl/agd/lodowki-i-zamra...</td>\n",
       "      <td>Lodówka SHARP SJ-UE121T0W-EU 83.8cm Biała bez ...</td>\n",
       "      <td>799.89</td>\n",
       "      <td>5</td>\n",
       "      <td>54.0</td>\n",
       "      <td>145.0</td>\n",
       "      <td>0.0</td>\n",
       "      <td>38.0</td>\n",
       "      <td>0</td>\n",
       "      <td>105.0</td>\n",
       "      <td>17.0</td>\n",
       "      <td>83.8</td>\n",
       "      <td>54.0</td>\n",
       "      <td>59.5</td>\n",
       "    </tr>\n",
       "    <tr>\n",
       "      <th>15</th>\n",
       "      <td>https://www.mediaexpert.pl/agd/lodowki-i-zamra...</td>\n",
       "      <td>Lodówka MPM-216-CF-26 No Frost 142cm Ciemny inox</td>\n",
       "      <td>1395.00</td>\n",
       "      <td>5</td>\n",
       "      <td>56.0</td>\n",
       "      <td>199.0</td>\n",
       "      <td>1.0</td>\n",
       "      <td>38.0</td>\n",
       "      <td>0</td>\n",
       "      <td>145.0</td>\n",
       "      <td>52.0</td>\n",
       "      <td>142.0</td>\n",
       "      <td>54.0</td>\n",
       "      <td>56.0</td>\n",
       "    </tr>\n",
       "  </tbody>\n",
       "</table>\n",
       "</div>"
      ],
      "text/plain": [
       "                                                  link  \\\n",
       "336  https://www.mediaexpert.pl/agd/lodowki-i-zamra...   \n",
       "263  https://www.mediaexpert.pl/agd/lodowki-i-zamra...   \n",
       "259  https://www.mediaexpert.pl/agd/lodowki-i-zamra...   \n",
       "26   https://www.mediaexpert.pl/agd/lodowki-i-zamra...   \n",
       "15   https://www.mediaexpert.pl/agd/lodowki-i-zamra...   \n",
       "\n",
       "                                                  name    price energy_class  \\\n",
       "336        Lodówka MPM 311-FF-58 No Frost 196cm Czarna  1999.99            5   \n",
       "263  Lodówka HISENSE RB440N4GWD No frost 200.4cm Bi...  2999.89            4   \n",
       "259  Lodówka WHIRLPOOL W7X 93T KS No frost 202.7cm ...  2397.00            4   \n",
       "26   Lodówka SHARP SJ-UE121T0W-EU 83.8cm Biała bez ...   799.89            5   \n",
       "15    Lodówka MPM-216-CF-26 No Frost 142cm Ciemny inox  1395.00            5   \n",
       "\n",
       "     width_opened_doors  annual_power_consumption no_frost    db  \\\n",
       "336                56.5                     211.0      1.0  38.0   \n",
       "263                59.5                     197.0      1.0  38.0   \n",
       "259                59.6                     203.0      1.0  34.0   \n",
       "26                 54.0                     145.0      0.0  38.0   \n",
       "15                 56.0                     199.0      1.0  38.0   \n",
       "\n",
       "    has_bespoke_panel  fridge_cap  freezer_cap  height  width  depth  \n",
       "336                 0       202.0         64.0   196.0   54.4   57.3  \n",
       "263                 0       238.0         98.0   200.4   59.5   59.0  \n",
       "259                 0       263.0        104.0   202.7   59.6   67.8  \n",
       "26                  0       105.0         17.0    83.8   54.0   59.5  \n",
       "15                  0       145.0         52.0   142.0   54.0   56.0  "
      ]
     },
     "execution_count": 4,
     "metadata": {},
     "output_type": "execute_result"
    }
   ],
   "source": [
    "df.sample(5)"
   ]
  },
  {
   "cell_type": "markdown",
   "metadata": {},
   "source": [
    "# 3. Analiza danych"
   ]
  },
  {
   "cell_type": "markdown",
   "metadata": {},
   "source": [
    "## 3.1 Kolumny kategoryczne"
   ]
  },
  {
   "cell_type": "code",
   "execution_count": 155,
   "metadata": {},
   "outputs": [
    {
     "name": "stdout",
     "output_type": "stream",
     "text": [
      "no_frost      0.0  0.5  1.0\n",
      "energy_class               \n",
      "1               5    6    9\n",
      "2               1    0    9\n",
      "3               5    8   48\n",
      "4              18    8   80\n",
      "5             174   14  255\n",
      "6              26    0   23\n"
     ]
    }
   ],
   "source": [
    "table1 = pd.crosstab(df['energy_class'], df['no_frost'])\n",
    "print(table1)"
   ]
  },
  {
   "cell_type": "code",
   "execution_count": 156,
   "metadata": {},
   "outputs": [
    {
     "name": "stdout",
     "output_type": "stream",
     "text": [
      "has_bespoke_panel    0  1\n",
      "energy_class             \n",
      "1                   18  2\n",
      "2                   10  0\n",
      "3                   60  1\n",
      "4                  102  4\n",
      "5                  439  4\n",
      "6                   49  0\n"
     ]
    }
   ],
   "source": [
    "table2 = pd.crosstab(df['energy_class'], df['has_bespoke_panel'])\n",
    "print(table2)"
   ]
  },
  {
   "cell_type": "code",
   "execution_count": 157,
   "metadata": {},
   "outputs": [
    {
     "name": "stdout",
     "output_type": "stream",
     "text": [
      "has_bespoke_panel    0   1\n",
      "no_frost                  \n",
      "0.0                218  11\n",
      "0.5                 36   0\n",
      "1.0                424   0\n"
     ]
    }
   ],
   "source": [
    "table3 = pd.crosstab(df['no_frost'], df['has_bespoke_panel'])\n",
    "print(table3)"
   ]
  },
  {
   "cell_type": "code",
   "execution_count": 166,
   "metadata": {},
   "outputs": [
    {
     "name": "stdout",
     "output_type": "stream",
     "text": [
      "P-value: 1.6367114583678938e-13\n",
      "P-value: 0.012713972697138665\n",
      "P-value: 1.3306201688617485e-05\n"
     ]
    }
   ],
   "source": [
    "from scipy.stats import chi2_contingency\n",
    "\n",
    "# p < 0.05 mozna odrzucic hipoteze 0 ze nie ma zadnych powiazan pomiedzy zmiennymi\n",
    "chi2, p, dof, expected = chi2_contingency(table1)\n",
    "print(f\"P-value: {p}\")\n",
    "chi2, p, dof, expected = chi2_contingency(table2)\n",
    "print(f\"P-value: {p}\")\n",
    "chi2, p, dof, expected = chi2_contingency(table3)\n",
    "print(f\"P-value: {p}\")"
   ]
  },
  {
   "cell_type": "markdown",
   "metadata": {},
   "source": [
    "## 3.2 Dane ciągłe"
   ]
  },
  {
   "cell_type": "code",
   "execution_count": 235,
   "metadata": {},
   "outputs": [
    {
     "name": "stdout",
     "output_type": "stream",
     "text": [
      "                             price  fridge_cap  freezer_cap  energy_class  \\\n",
      "price                     1.000000    0.684587     0.708387     -0.264866   \n",
      "fridge_cap                0.684587    1.000000     0.825074     -0.179972   \n",
      "freezer_cap               0.708387    0.825074     1.000000     -0.120978   \n",
      "energy_class             -0.264866   -0.179972    -0.120978      1.000000   \n",
      "annual_power_consumption  0.475732    0.677875     0.830143      0.369964   \n",
      "\n",
      "                          annual_power_consumption  \n",
      "price                                     0.475732  \n",
      "fridge_cap                                0.677875  \n",
      "freezer_cap                               0.830143  \n",
      "energy_class                              0.369964  \n",
      "annual_power_consumption                  1.000000  \n",
      "link                          object\n",
      "name                          object\n",
      "price                        float64\n",
      "energy_class                category\n",
      "width_opened_doors           float64\n",
      "annual_power_consumption     float64\n",
      "no_frost                    category\n",
      "db                           float64\n",
      "has_bespoke_panel           category\n",
      "fridge_cap                   float64\n",
      "freezer_cap                  float64\n",
      "height                       float64\n",
      "width                        float64\n",
      "depth                        float64\n",
      "dtype: object\n",
      "[3740.03972857 3253.01875082 3210.17207418 6476.16470558 3689.63407952\n",
      " 3229.46759019 1450.43500409 3689.63407952 6501.02507194 4006.78478795\n",
      " 3800.18441995 6476.16470558 1577.23263341 5355.3809509  3435.00404672\n",
      " 1047.60512473 3833.42098832  396.77337009 3777.86139674 2682.30192105\n",
      "  563.77727664  751.68303533  472.93981655  256.2255584   396.77337009\n",
      " 1552.3395479  1633.23282473 6122.27645403 1450.43500409  309.57997996\n",
      " 6191.80304318 1613.78935085 1047.60512473 1882.95162288  427.89612639\n",
      " 1560.72464164 1613.78935085 6387.46839633 1527.82964949 1436.47441229\n",
      "  363.61534766 5254.49528978 1642.9047767   427.89612639 6666.1113237\n",
      " 1506.57256524 6067.12694675 2377.39599389 1633.23282473  427.89612639\n",
      " 6757.32223635  779.96297701 6484.24986171 1519.26921181 1345.19825918\n",
      " 1867.0306282   554.87435257 1371.56806521 1552.3395479  6648.38301089\n",
      " 1527.82964949 2413.96103256  256.2255584  6067.12694675 1436.47441229\n",
      " 2575.95883732 1506.57256524  292.78837521 6295.96708709 3774.62426176\n",
      "  427.44275615 5169.21503915 1614.23522793 2575.95883732 2495.75127957\n",
      " 1889.81413443 6476.16470558 4866.24699359  256.2255584  2012.66250482\n",
      "  401.26623958 6347.60188677 5054.17572869 2413.96103256 1977.1307165\n",
      " 1614.23522793 6701.44168499 4671.38080755 6461.97590143 4234.74236317\n",
      " 1889.81413443 2377.39599389 1570.62327873 5490.51959777 3998.92631694\n",
      "  520.24394668 2026.01374044 6400.85807553  220.64158092 2682.58077578\n",
      " 5998.73968391  680.7692508  5951.86436049 4550.23261726 1444.91738914\n",
      " 6484.24986171 1477.05089301 4794.74897561 1977.1307165   680.7692508\n",
      " 6709.52684112 2637.20378971 5951.86436049 1047.66145881 2762.78305734\n",
      " 3266.64081987 5387.63286533 1977.1307165  3998.92631694 6387.46839633\n",
      " 1889.81413443 6093.62107508 6783.55746139 3957.1937845  6846.99541949\n",
      " 1047.60512473 6484.52837492 2690.51116465 1047.66145881 5136.33445815\n",
      " 2749.76857414 6191.80304318 1874.15544184 3307.80211603  524.55554223\n",
      " 6501.02507194 3270.61477909 3637.39525344 5967.68045086 3996.09040476\n",
      " 6815.38271348 6743.79072783 4352.25882805 2683.26083114 6461.37267062\n",
      " 1523.41413129 3299.88810996 6476.16470558 6648.38301089 2820.30712007\n",
      " 6990.43946352 4794.74897561 3843.28537098 5998.73968391 3931.18780496\n",
      " 1558.49227145 3998.92631694 2760.593819   2009.16150182 2683.26083114\n",
      " 1412.91470322 2683.26083114 2018.83345379 2012.66250482 1258.4788655\n",
      " 3376.38691888 2571.42401394 3216.75239693 2575.95883732 6031.78316661\n",
      " 3626.36319075  364.6415646  1258.4788655  4006.78478795 2094.73195334\n",
      " 1834.80122575 5166.53052199  364.6415646  4006.78478795 2264.59261383\n",
      " 3800.18441995 3073.30100822 1412.91470322 2683.26083114 1834.80122575\n",
      " 4681.46339235 1292.13144167 1174.08938756 2094.73195334 2651.77148695\n",
      " 1353.70290783 1258.4788655  1486.94828862 1444.91738914 2426.24503633\n",
      "  751.68303533 2264.59261383 1867.22447686 3845.2958332  2018.92931138\n",
      " 2663.20516649 5073.87782996  970.36550968 2683.26083114 3845.2958332\n",
      " 3159.03288658 1834.80122575 1906.95741248 2599.46161002 1444.91738914\n",
      " 4290.06546855 1558.49227145 7931.2272759  1174.08938756 1867.22447686\n",
      " 1646.31631943 5768.46004114 7931.2272759  6701.44168499 1906.63307816\n",
      " 2276.06695177 6727.70450509 1412.91470322 4348.98410606 1450.9552092\n",
      " 3314.25402622 2539.05948259 1624.17194981 2339.44472417 2018.68340724\n",
      " 1867.22447686 2805.19894429 3307.80211603 3930.20380792 2494.89164997\n",
      " 2211.80746311 2143.9034167   437.81004656 3824.23561007 2211.80746311\n",
      " 3300.11479508 2598.55486954 3263.90337903 3376.38691888 2575.95883732\n",
      " 2083.2105191   520.24394668 2651.77148695 1444.91738914 2276.06695177\n",
      " 1994.23547574 3697.20438082  472.93981655 2612.56721038 1134.29329559\n",
      " 2722.82977808 6476.16470558 2985.5498024  5490.51959777 3434.6331526\n",
      " 8047.12328694 3791.72514422 2599.46161002 2637.20378971 3774.62426176\n",
      " 6877.24576825  520.24394668 3253.01875082 4247.79285561 3263.90337903\n",
      "  751.68303533 1155.36861111 4356.04683097 5266.6549648   970.36550968\n",
      " 1902.29286841 3324.7244015  1867.0306282  3800.18441995 3756.69730039\n",
      " 3141.44965853 3237.1305446  1893.71012726  505.81990304  220.64158092\n",
      "  407.58463553 6820.24641478 5739.96760527 1450.9552092  2710.4385131\n",
      " 1893.71012726 3141.44965853  220.64158092 3301.63160558 2619.05860887\n",
      " 2012.66250482 2805.19894429 2539.05948259 3300.11479508 1131.34262623\n",
      " 2494.82262624  331.32736607 3689.63407952 2798.83917919 1867.40721758\n",
      " 3807.36141273 4826.51681252 1477.05089301 2637.20378971 3517.33060529\n",
      " 1748.56777399 2673.63142139 3253.01875082 6820.24641478 1646.31631943\n",
      " 3484.5843762  2083.2105191  6727.70450509 3881.61517398 5054.17572869\n",
      " 2570.17759921 2832.83997729 1713.71133663 5355.3809509  5498.63280369\n",
      " 2018.68340724 2118.38373831 6815.38271348 1272.05779629 2211.80746311\n",
      " 3210.17207418 1994.23547574 4866.24699359 4866.24699359 1966.41559899\n",
      " 2018.92931138 1271.43431899 1558.49227145 2598.55486954 4866.24699359\n",
      " 4929.26952946 3237.1305446  2026.01374044 2006.0449875  2832.83997729\n",
      " 3354.02228288 2021.09891418 1735.9857117   970.36550968 1134.29329559\n",
      " 7349.3894779  3257.6082207  4698.58175963 3807.36141273  358.63176325\n",
      " 4929.26952946 2651.77148695 2832.83997729 3237.1305446  5081.37456398\n",
      " 3210.02351203 4848.70989469  513.15368673 1681.00467413 1271.43431899\n",
      " 2124.40834577 1131.34262623 2806.62899921 4826.51681252  502.68127976\n",
      " 4296.49537005 7991.90644097 2035.12286362 3996.09040476  397.80134479\n",
      " 4391.00390494 3851.74774338 3792.1194457  3073.30100822 2083.2105191\n",
      " 2656.22960625 3467.6377649  2791.13451844 7048.68526821 2058.0835278\n",
      " 2619.05860887 2079.52312656 3807.36141273 3486.28776963 3141.44965853\n",
      " 8285.21769199 2490.18447047 3851.74774338 5046.68220407 4352.25882805\n",
      " 3426.01215011 4234.74236317 2730.91498566  281.53775312 3877.81313062\n",
      " 3301.63160558 2325.65685698 3316.98899241 1889.81413443 3851.74774338\n",
      "  502.68127976 4234.74236317 4199.32021785 2798.83917919 3689.63407952\n",
      " 3141.44965853 3141.44965853 3073.30100822  421.27474655 1930.44556766\n",
      " 1675.36205925  277.26383133 3467.00860728 1047.66145881 4785.14516728\n",
      " 3486.35115231 -520.60676511 1613.78935085 7348.26898358  358.63176325\n",
      " 7518.14306723 6461.37267062 3354.02228288 6586.57785657 2671.43445452\n",
      " 2574.00340371 6142.91699921 3300.11479508 3760.87665616 5946.41308014\n",
      " 1717.4269447  6766.3977557  1271.43431899 1792.78775654 1397.527634\n",
      " 2118.38373831 4867.25997307 2892.2969873   421.27474655 2131.69407887\n",
      " 2143.9034167  1936.58945739 7348.70942254 3843.51115482 3800.18441995\n",
      " 2451.8492057  3141.44965853 3814.4458418  3300.11479508  309.57997996\n",
      " 2244.11811175 1713.71133663 7104.33965418 7774.58673155 5781.85314946\n",
      " 2690.51116465 6822.58279951 3756.69730039 2460.32913425 1977.1307165\n",
      " 1977.1307165  1613.78935085 2106.10768107 4024.39938602  281.53775312\n",
      " 2619.05860887 2138.66643598 3299.88810996 5126.18914379 1131.34262623\n",
      " 4024.39938602 4024.39938602 1872.51121    1872.51121    8285.21769199\n",
      " 3467.00860728 2490.18447047 4145.78990521 2495.75127957 4202.68144237\n",
      " 3864.90860655 3092.45349583 3733.55455864 3656.45797234 3445.10352788\n",
      " 3387.35291773 4848.70989469 6990.43946352 3250.52379163 4749.15638336\n",
      " 6070.71327107 2549.52141862 5140.92163815 2772.29302988 3300.11479508\n",
      " 2791.13451844 3313.76826276 6264.19842338 2656.22960625 5214.48554039\n",
      " 3486.90566886 3494.70211966 2079.52312656 3882.0658078  3948.12065554\n",
      " 5408.87827787 5530.69798623 3838.3654474  4749.15638336 4748.92969824\n",
      " 5408.87827787 4749.15638336 3033.2406737   407.58463553 2325.65685698\n",
      " 3146.67801745 4748.92969824  360.08318339 2987.55672573 7349.97147016\n",
      " 7349.97147016 4192.50084901 2035.12286362 1613.78935085 2549.00114589\n",
      " 2549.00114589 2453.7148048  6766.57119006 4379.07888765 4086.88921303\n",
      " 3314.25402622 3217.34805158 5317.50279586 4784.48694507 3535.64306025\n",
      " 3535.64306025 3906.76448524 3740.03972857 3512.83163819 6062.47192699\n",
      " 3995.89927058  524.55554223  292.78837521 2108.10418026 2018.68340724\n",
      " 6345.74627299  438.02129936 -520.60676511 1660.85354429 3577.29609433\n",
      " 1660.85354429 1768.07823322 1613.78935085 1966.41559899 5092.31211657\n",
      " 6040.61848947 4873.34153806 2033.08269754 2752.96731313 2752.96731313\n",
      " 1889.30551346 1889.30551346 4631.09073331 1889.30551346 2063.94214213\n",
      " 3774.62426176 2745.04350121 4784.48694507 4501.10978253 3535.64306025\n",
      " 3535.64306025 3906.76448524 3577.29609433 3906.76448524 4763.88664361\n",
      " 5404.84023409   50.52950841   18.31548149 1995.91895885 1303.52448317\n",
      " 4209.82978195 2660.41638305 1303.52448317 4504.10053098 5145.82786843\n",
      " 1510.75436889 1613.78935085 7062.21703774 2651.77148695   97.43888144\n",
      " 5770.81924043  472.93981655 3376.38691888 6067.56315095 3931.18780496\n",
      " 5493.76119781 5073.87782996 1444.91738914 2599.46161002 2683.26083114\n",
      " 4331.22959313 5528.29351614 3710.29913844  407.58463553 5838.76283582\n",
      " -121.32736973 2598.55486954 2598.55486954 1735.9857117  4372.43174155\n",
      " 4202.68144237  992.75917863 6067.56315095 1134.3273455  3354.02228288\n",
      " 3845.2958332  2629.96260748 5518.26020154 6590.02285769 2655.81576203\n",
      "  762.34439243  762.34439243  540.49927819 6067.56315095 1887.62752222\n",
      " 1063.8698039  3329.92244627 2498.61511822 3326.21148789 5688.05756298\n",
      " 5963.77908623 1063.8698039  1075.34414184  874.22531201 4363.66653006\n",
      " 4270.55717101 5617.33459805   -9.16658032 3777.86139674 1292.13144167\n",
      " 3833.42098832 -227.68552716 3807.36141273 1272.05779629 2363.42596541\n",
      " 3637.39525344 4829.84833898 6743.79072783 3250.52379163 3229.46759019\n",
      " 2681.92305118 4048.31929176 3192.87405944  874.22531201   25.92714271\n",
      " 5046.68220407 2806.62899921 1513.18635736 4379.75955603 1001.05110836\n",
      " 2494.83531589 3709.61908309 3431.1702841   779.96297701 2494.83531589\n",
      " 1336.4871422  3329.92244627 3726.75892127 2508.87902915  -24.80274584\n",
      " 3494.70211966 1869.57456567 1940.23450415 1287.83643468   20.92820127\n",
      " 2580.25877532 3324.7244015  1108.91950922   46.44404046 6221.89782477\n",
      " 1000.91027316 5095.69048527  -58.78623423 1139.13547057]\n"
     ]
    }
   ],
   "source": [
    "from sklearn.linear_model import LinearRegression\n",
    "\n",
    "correlation_matrix = df[['price', 'fridge_cap', 'freezer_cap', 'energy_class', 'annual_power_consumption']].corr()\n",
    "print(correlation_matrix)\n",
    "print(df.dtypes)\n",
    "X = df[['fridge_cap', 'freezer_cap', 'no_frost', 'energy_class', 'has_bespoke_panel', 'annual_power_consumption', 'db', 'height', 'width', 'depth']]\n",
    "y = df['price']\n",
    "\n",
    "model = LinearRegression()\n",
    "model.fit(X, y)\n",
    "\n",
    "predictions = model.predict(X)\n",
    "print(predictions)"
   ]
  },
  {
   "cell_type": "code",
   "execution_count": 160,
   "metadata": {},
   "outputs": [
    {
     "data": {
      "image/png": "[encoded data removed]",
      "text/plain": [
       "<Figure size 640x480 with 1 Axes>"
      ]
     },
     "metadata": {},
     "output_type": "display_data"
    }
   ],
   "source": [
    "import matplotlib.pyplot as plt\n",
    "\n",
    "plt.hist(df['price'], bins=50, edgecolor='black')\n",
    "plt.title('Rozkład cen lodówek')\n",
    "plt.xlabel('Cena')\n",
    "plt.ylabel('Liczba lodówek')\n",
    "plt.show()"
   ]
  },
  {
   "cell_type": "code",
   "execution_count": 161,
   "metadata": {},
   "outputs": [
    {
     "name": "stdout",
     "output_type": "stream",
     "text": [
      "              price  fridge_cap  freezer_cap      height       width  \\\n",
      "count    689.000000  689.000000   689.000000  689.000000  689.000000   \n",
      "mean    3125.992816  238.507983   100.373004  169.511611   62.902758   \n",
      "std     2408.825781   97.157599    63.461180   40.439969   13.208268   \n",
      "min      199.970000   29.000000     0.000000   48.500000   40.000000   \n",
      "25%     1549.990000  176.000000    54.000000  161.300000   55.000000   \n",
      "50%     2559.000000  235.000000   103.000000  183.000000   59.500000   \n",
      "75%     3699.990000  291.000000   125.000000  200.000000   65.400000   \n",
      "max    16999.000000  487.000000   278.000000  205.000000  100.500000   \n",
      "\n",
      "            depth  \n",
      "count  689.000000  \n",
      "mean    63.551959  \n",
      "std      7.564196  \n",
      "min     43.000000  \n",
      "25%     59.000000  \n",
      "50%     65.800000  \n",
      "75%     67.800000  \n",
      "max     90.000000  \n"
     ]
    }
   ],
   "source": [
    "print(df[['price', 'fridge_cap', 'freezer_cap', 'height', 'width', 'depth']].describe())"
   ]
  },
  {
   "cell_type": "code",
   "execution_count": 162,
   "metadata": {},
   "outputs": [
    {
     "data": {
      "image/png": "[encoded data removed]",
      "text/plain": [
       "<Figure size 640x480 with 1 Axes>"
      ]
     },
     "metadata": {},
     "output_type": "display_data"
    }
   ],
   "source": [
    "import seaborn as sns\n",
    "\n",
    "sns.scatterplot(x='fridge_cap', y='price', data=df)\n",
    "plt.title('Zależność między pojemnością lodówki a ceną')\n",
    "plt.show()"
   ]
  },
  {
   "cell_type": "code",
   "execution_count": 163,
   "metadata": {},
   "outputs": [
    {
     "data": {
      "image/png": "[encoded data removed]",
      "text/plain": [
       "<Figure size 640x480 with 1 Axes>"
      ]
     },
     "metadata": {},
     "output_type": "display_data"
    }
   ],
   "source": [
    "sns.scatterplot(x='freezer_cap', y='price', data=df)\n",
    "plt.title('Zależność między pojemnością zamrażarki a ceną')\n",
    "plt.show()"
   ]
  },
  {
   "cell_type": "code",
   "execution_count": 164,
   "metadata": {},
   "outputs": [
    {
     "name": "stdout",
     "output_type": "stream",
     "text": [
      "energy_class\n",
      "1    5627.077500\n",
      "2    3978.793000\n",
      "3    3933.278197\n",
      "4    3751.746981\n",
      "5    2842.180451\n",
      "6    2138.336327\n",
      "Name: price, dtype: float64\n"
     ]
    },
    {
     "name": "stderr",
     "output_type": "stream",
     "text": [
      "C:\\Users\\marek\\AppData\\Local\\Temp\\ipykernel_8512\\2651748510.py:1: FutureWarning: The default of observed=False is deprecated and will be changed to True in a future version of pandas. Pass observed=False to retain current behavior or observed=True to adopt the future default and silence this warning.\n",
      "  mean_price_by_class = df.groupby('energy_class')['price'].mean()\n"
     ]
    }
   ],
   "source": [
    "mean_price_by_class = df.groupby('energy_class')['price'].mean()\n",
    "print(mean_price_by_class)"
   ]
  },
  {
   "cell_type": "markdown",
   "metadata": {},
   "source": [
    "## 3.3 Wyniki analiz\n",
    "Na podstawie analiz w 3.1 i w 3.2 można stwierdzić, że:\n",
    "* Im niższa klasa energetyczna, tym niższa średnia cena lodówek w tej klasie. Klasa A (1) ma średnio najdroższe lodówki.\n",
    "* Na wykresie zauważalna jest zależność wzrostu cen lodówek, gdy rośnie pojemność ich zamrażarek. Podobną zależność widać dla pojemności lodówek.\n",
    "* Połowa lodówek jest tańsza lub kosztuje 2559 zł\n",
    "* Istnieje zależność między zmiennymi energy_class i no_frost.\n",
    "* Istnieje korelacja pomiędzy ceną a klasą energetyczną lodówki. Jest to korelacja ujemna, zatem gdy rośnie cena maleje numer klasy energetycznej (A = 1) i odwrotnie.\n",
    "* Widać zależność pomiędzy pojemnością lodówki i zamrażarki a zużyciem energii. Większe lodówki zużywają więcej energii.\n",
    "* Największe znaczenie dla ceny wydaje się mieć klasa energetyczna i pojemność lodówki i zamrażarki."
   ]
  },
  {
   "cell_type": "markdown",
   "metadata": {},
   "source": [
    "# 4. Wizualizacje"
   ]
  },
  {
   "cell_type": "code",
   "execution_count": 7,
   "metadata": {},
   "outputs": [
    {
     "name": "stdout",
     "output_type": "stream",
     "text": [
      "R² modelu regresji: 0.5086\n"
     ]
    },
    {
     "data": {
      "image/png": "[encoded data removed]",
      "text/plain": [
       "<Figure size 1000x600 with 1 Axes>"
      ]
     },
     "metadata": {},
     "output_type": "display_data"
    }
   ],
   "source": [
    "import matplotlib.pyplot as plt\n",
    "import seaborn as sns\n",
    "from sklearn.linear_model import LinearRegression\n",
    "from sklearn.model_selection import train_test_split\n",
    "from sklearn.metrics import r2_score\n",
    "\n",
    "# Model regresji\n",
    "X = df[['fridge_cap', 'freezer_cap', 'no_frost', 'energy_class', 'has_bespoke_panel', 'annual_power_consumption', 'db', 'height', 'width', 'depth']]\n",
    "y = df['price']\n",
    "\n",
    "X_train, X_test, y_train, y_test = train_test_split(X, y, test_size=0.2, random_state=42)\n",
    "model = LinearRegression()\n",
    "model.fit(X_train, y_train)\n",
    "\n",
    "y_pred = model.predict(X_test)\n",
    "r2 = r2_score(y_test, y_pred)\n",
    "\n",
    "print(f\"R² modelu regresji: {r2:.4f}\")\n",
    "\n",
    "plt.figure(figsize=(10, 6))\n",
    "sns.regplot(x=y_test, y=y_pred, scatter_kws={'alpha':0.3})\n",
    "plt.title(\"Wyniki regresji: R²\")\n",
    "plt.xlabel(\"Prawdziwe wartości\")\n",
    "plt.ylabel(\"Predykowane wartości\")\n",
    "plt.show()\n"
   ]
  },
  {
   "cell_type": "code",
   "execution_count": 5,
   "metadata": {},
   "outputs": [
    {
     "data": {
      "application/vnd.plotly.v1+json": {
       "config": {
        "plotlyServerURL": "https://plot.ly"
       },
       "data": [
        {
         "coloraxis": "coloraxis",
         "hovertemplate": "x: %{x}<br>y: %{y}<br>color: %{z}<extra></extra>",
         "name": "0",
         "texttemplate": "%{z}",
         "type": "heatmap",
         "x": [
          "price",
          "energy_class",
          "width_opened_doors",
          "annual_power_consumption",
          "no_frost",
          "db",
          "has_bespoke_panel",
          "fridge_cap",
          "freezer_cap",
          "height",
          "width",
          "depth"
         ],
         "xaxis": "x",
         "y": [
          "price",
          "energy_class",
          "width_opened_doors",
          "annual_power_consumption",
          "no_frost",
          "db",
          "has_bespoke_panel",
          "fridge_cap",
          "freezer_cap",
          "height",
          "width",
          "depth"
         ],
         "yaxis": "y",
         "z": [
          [
           1,
           -0.26486602786148195,
           0.7210608517363469,
           0.47573248534911655,
           0.40816558083532206,
           -0.0814411499299628,
           0.014971289105079324,
           0.6845865340596372,
           0.7083873837977486,
           0.4455240526141671,
           0.7164680476617287,
           0.640336629693538
          ],
          [
           -0.26486602786148195,
           1,
           0.0340507172374164,
           0.36996380178451427,
           -0.1703122970353569,
           0.10527253246405444,
           -0.1087821107908822,
           -0.17997194707834202,
           -0.12097783654350183,
           -0.3694498794500822,
           0.004325080441167153,
           -0.25850428278874993
          ],
          [
           0.7210608517363469,
           0.0340507172374164,
           1,
           0.740108796260171,
           0.45684170123221957,
           -0.0557102437913859,
           -0.04525149739023061,
           0.7980293698449558,
           0.8450444246448453,
           0.39045218181163577,
           0.9548328609867289,
           0.6671509455801266
          ],
          [
           0.47573248534911655,
           0.36996380178451427,
           0.740108796260171,
           1,
           0.5628304943632606,
           -0.023531032083278933,
           -0.03670694973525479,
           0.6778746357833968,
           0.8301429320243208,
           0.5219461617818332,
           0.7721676813499088,
           0.6191521223052258
          ],
          [
           0.40816558083532206,
           -0.1703122970353569,
           0.45684170123221957,
           0.5628304943632606,
           1,
           -0.08891057804366959,
           -0.17544543888505715,
           0.5879367501533417,
           0.6449844514603088,
           0.6486409552513481,
           0.5084153428070803,
           0.6064966220881945
          ],
          [
           -0.0814411499299628,
           0.10527253246405444,
           -0.0557102437913859,
           -0.023531032083278933,
           -0.08891057804366959,
           1,
           -0.0009081082367804114,
           -0.08083872514227218,
           -0.08747120442521944,
           -0.07538267007052106,
           -0.06201231593099321,
           -0.07217318826643415
          ],
          [
           0.014971289105079324,
           -0.1087821107908822,
           -0.04525149739023061,
           -0.03670694973525479,
           -0.17544543888505715,
           -0.0009081082367804114,
           1,
           0.04525209688306615,
           0.006554712262212308,
           0.08546853997123177,
           -0.032838402551667596,
           0.04247828415290287
          ],
          [
           0.6845865340596372,
           -0.17997194707834202,
           0.7980293698449558,
           0.6778746357833968,
           0.5879367501533417,
           -0.08083872514227218,
           0.04525209688306615,
           1,
           0.8250737201749021,
           0.7290565688370105,
           0.8494496140377655,
           0.8359858413983339
          ],
          [
           0.7083873837977486,
           -0.12097783654350183,
           0.8450444246448453,
           0.8301429320243208,
           0.6449844514603088,
           -0.08747120442521944,
           0.006554712262212308,
           0.8250737201749021,
           1,
           0.6222680010896051,
           0.8994951167189225,
           0.7526031174797445
          ],
          [
           0.4455240526141671,
           -0.3694498794500822,
           0.39045218181163577,
           0.5219461617818332,
           0.6486409552513481,
           -0.07538267007052106,
           0.08546853997123177,
           0.7290565688370105,
           0.6222680010896051,
           1,
           0.42748363737930606,
           0.7550565495047152
          ],
          [
           0.7164680476617287,
           0.004325080441167153,
           0.9548328609867289,
           0.7721676813499088,
           0.5084153428070803,
           -0.06201231593099321,
           -0.032838402551667596,
           0.8494496140377655,
           0.8994951167189225,
           0.42748363737930606,
           1,
           0.6919544975578835
          ],
          [
           0.640336629693538,
           -0.25850428278874993,
           0.6671509455801266,
           0.6191521223052258,
           0.6064966220881945,
           -0.07217318826643415,
           0.04247828415290287,
           0.8359858413983339,
           0.7526031174797445,
           0.7550565495047152,
           0.6919544975578835,
           1
          ]
         ]
        }
       ],
       "layout": {
        "coloraxis": {
         "colorscale": [
          [
           0,
           "#0d0887"
          ],
          [
           0.1111111111111111,
           "#46039f"
          ],
          [
           0.2222222222222222,
           "#7201a8"
          ],
          [
           0.3333333333333333,
           "#9c179e"
          ],
          [
           0.4444444444444444,
           "#bd3786"
          ],
          [
           0.5555555555555556,
           "#d8576b"
          ],
          [
           0.6666666666666666,
           "#ed7953"
          ],
          [
           0.7777777777777778,
           "#fb9f3a"
          ],
          [
           0.8888888888888888,
           "#fdca26"
          ],
          [
           1,
           "#f0f921"
          ]
         ]
        },
        "template": {
         "data": {
          "bar": [
           {
            "error_x": {
             "color": "#2a3f5f"
            },
            "error_y": {
             "color": "#2a3f5f"
            },
            "marker": {
             "line": {
              "color": "#E5ECF6",
              "width": 0.5
             },
             "pattern": {
              "fillmode": "overlay",
              "size": 10,
              "solidity": 0.2
             }
            },
            "type": "bar"
           }
          ],
          "barpolar": [
           {
            "marker": {
             "line": {
              "color": "#E5ECF6",
              "width": 0.5
             },
             "pattern": {
              "fillmode": "overlay",
              "size": 10,
              "solidity": 0.2
             }
            },
            "type": "barpolar"
           }
          ],
          "carpet": [
           {
            "aaxis": {
             "endlinecolor": "#2a3f5f",
             "gridcolor": "white",
             "linecolor": "white",
             "minorgridcolor": "white",
             "startlinecolor": "#2a3f5f"
            },
            "baxis": {
             "endlinecolor": "#2a3f5f",
             "gridcolor": "white",
             "linecolor": "white",
             "minorgridcolor": "white",
             "startlinecolor": "#2a3f5f"
            },
            "type": "carpet"
           }
          ],
          "choropleth": [
           {
            "colorbar": {
             "outlinewidth": 0,
             "ticks": ""
            },
            "type": "choropleth"
           }
          ],
          "contour": [
           {
            "colorbar": {
             "outlinewidth": 0,
             "ticks": ""
            },
            "colorscale": [
             [
              0,
              "#0d0887"
             ],
             [
              0.1111111111111111,
              "#46039f"
             ],
             [
              0.2222222222222222,
              "#7201a8"
             ],
             [
              0.3333333333333333,
              "#9c179e"
             ],
             [
              0.4444444444444444,
              "#bd3786"
             ],
             [
              0.5555555555555556,
              "#d8576b"
             ],
             [
              0.6666666666666666,
              "#ed7953"
             ],
             [
              0.7777777777777778,
              "#fb9f3a"
             ],
             [
              0.8888888888888888,
              "#fdca26"
             ],
             [
              1,
              "#f0f921"
             ]
            ],
            "type": "contour"
           }
          ],
          "contourcarpet": [
           {
            "colorbar": {
             "outlinewidth": 0,
             "ticks": ""
            },
            "type": "contourcarpet"
           }
          ],
          "heatmap": [
           {
            "colorbar": {
             "outlinewidth": 0,
             "ticks": ""
            },
            "colorscale": [
             [
              0,
              "#0d0887"
             ],
             [
              0.1111111111111111,
              "#46039f"
             ],
             [
              0.2222222222222222,
              "#7201a8"
             ],
             [
              0.3333333333333333,
              "#9c179e"
             ],
             [
              0.4444444444444444,
              "#bd3786"
             ],
             [
              0.5555555555555556,
              "#d8576b"
             ],
             [
              0.6666666666666666,
              "#ed7953"
             ],
             [
              0.7777777777777778,
              "#fb9f3a"
             ],
             [
              0.8888888888888888,
              "#fdca26"
             ],
             [
              1,
              "#f0f921"
             ]
            ],
            "type": "heatmap"
           }
          ],
          "heatmapgl": [
           {
            "colorbar": {
             "outlinewidth": 0,
             "ticks": ""
            },
            "colorscale": [
             [
              0,
              "#0d0887"
             ],
             [
              0.1111111111111111,
              "#46039f"
             ],
             [
              0.2222222222222222,
              "#7201a8"
             ],
             [
              0.3333333333333333,
              "#9c179e"
             ],
             [
              0.4444444444444444,
              "#bd3786"
             ],
             [
              0.5555555555555556,
              "#d8576b"
             ],
             [
              0.6666666666666666,
              "#ed7953"
             ],
             [
              0.7777777777777778,
              "#fb9f3a"
             ],
             [
              0.8888888888888888,
              "#fdca26"
             ],
             [
              1,
              "#f0f921"
             ]
            ],
            "type": "heatmapgl"
           }
          ],
          "histogram": [
           {
            "marker": {
             "pattern": {
              "fillmode": "overlay",
              "size": 10,
              "solidity": 0.2
             }
            },
            "type": "histogram"
           }
          ],
          "histogram2d": [
           {
            "colorbar": {
             "outlinewidth": 0,
             "ticks": ""
            },
            "colorscale": [
             [
              0,
              "#0d0887"
             ],
             [
              0.1111111111111111,
              "#46039f"
             ],
             [
              0.2222222222222222,
              "#7201a8"
             ],
             [
              0.3333333333333333,
              "#9c179e"
             ],
             [
              0.4444444444444444,
              "#bd3786"
             ],
             [
              0.5555555555555556,
              "#d8576b"
             ],
             [
              0.6666666666666666,
              "#ed7953"
             ],
             [
              0.7777777777777778,
              "#fb9f3a"
             ],
             [
              0.8888888888888888,
              "#fdca26"
             ],
             [
              1,
              "#f0f921"
             ]
            ],
            "type": "histogram2d"
           }
          ],
          "histogram2dcontour": [
           {
            "colorbar": {
             "outlinewidth": 0,
             "ticks": ""
            },
            "colorscale": [
             [
              0,
              "#0d0887"
             ],
             [
              0.1111111111111111,
              "#46039f"
             ],
             [
              0.2222222222222222,
              "#7201a8"
             ],
             [
              0.3333333333333333,
              "#9c179e"
             ],
             [
              0.4444444444444444,
              "#bd3786"
             ],
             [
              0.5555555555555556,
              "#d8576b"
             ],
             [
              0.6666666666666666,
              "#ed7953"
             ],
             [
              0.7777777777777778,
              "#fb9f3a"
             ],
             [
              0.8888888888888888,
              "#fdca26"
             ],
             [
              1,
              "#f0f921"
             ]
            ],
            "type": "histogram2dcontour"
           }
          ],
          "mesh3d": [
           {
            "colorbar": {
             "outlinewidth": 0,
             "ticks": ""
            },
            "type": "mesh3d"
           }
          ],
          "parcoords": [
           {
            "line": {
             "colorbar": {
              "outlinewidth": 0,
              "ticks": ""
             }
            },
            "type": "parcoords"
           }
          ],
          "pie": [
           {
            "automargin": true,
            "type": "pie"
           }
          ],
          "scatter": [
           {
            "fillpattern": {
             "fillmode": "overlay",
             "size": 10,
             "solidity": 0.2
            },
            "type": "scatter"
           }
          ],
          "scatter3d": [
           {
            "line": {
             "colorbar": {
              "outlinewidth": 0,
              "ticks": ""
             }
            },
            "marker": {
             "colorbar": {
              "outlinewidth": 0,
              "ticks": ""
             }
            },
            "type": "scatter3d"
           }
          ],
          "scattercarpet": [
           {
            "marker": {
             "colorbar": {
              "outlinewidth": 0,
              "ticks": ""
             }
            },
            "type": "scattercarpet"
           }
          ],
          "scattergeo": [
           {
            "marker": {
             "colorbar": {
              "outlinewidth": 0,
              "ticks": ""
             }
            },
            "type": "scattergeo"
           }
          ],
          "scattergl": [
           {
            "marker": {
             "colorbar": {
              "outlinewidth": 0,
              "ticks": ""
             }
            },
            "type": "scattergl"
           }
          ],
          "scattermapbox": [
           {
            "marker": {
             "colorbar": {
              "outlinewidth": 0,
              "ticks": ""
             }
            },
            "type": "scattermapbox"
           }
          ],
          "scatterpolar": [
           {
            "marker": {
             "colorbar": {
              "outlinewidth": 0,
              "ticks": ""
             }
            },
            "type": "scatterpolar"
           }
          ],
          "scatterpolargl": [
           {
            "marker": {
             "colorbar": {
              "outlinewidth": 0,
              "ticks": ""
             }
            },
            "type": "scatterpolargl"
           }
          ],
          "scatterternary": [
           {
            "marker": {
             "colorbar": {
              "outlinewidth": 0,
              "ticks": ""
             }
            },
            "type": "scatterternary"
           }
          ],
          "surface": [
           {
            "colorbar": {
             "outlinewidth": 0,
             "ticks": ""
            },
            "colorscale": [
             [
              0,
              "#0d0887"
             ],
             [
              0.1111111111111111,
              "#46039f"
             ],
             [
              0.2222222222222222,
              "#7201a8"
             ],
             [
              0.3333333333333333,
              "#9c179e"
             ],
             [
              0.4444444444444444,
              "#bd3786"
             ],
             [
              0.5555555555555556,
              "#d8576b"
             ],
             [
              0.6666666666666666,
              "#ed7953"
             ],
             [
              0.7777777777777778,
              "#fb9f3a"
             ],
             [
              0.8888888888888888,
              "#fdca26"
             ],
             [
              1,
              "#f0f921"
             ]
            ],
            "type": "surface"
           }
          ],
          "table": [
           {
            "cells": {
             "fill": {
              "color": "#EBF0F8"
             },
             "line": {
              "color": "white"
             }
            },
            "header": {
             "fill": {
              "color": "#C8D4E3"
             },
             "line": {
              "color": "white"
             }
            },
            "type": "table"
           }
          ]
         },
         "layout": {
          "annotationdefaults": {
           "arrowcolor": "#2a3f5f",
           "arrowhead": 0,
           "arrowwidth": 1
          },
          "autotypenumbers": "strict",
          "coloraxis": {
           "colorbar": {
            "outlinewidth": 0,
            "ticks": ""
           }
          },
          "colorscale": {
           "diverging": [
            [
             0,
             "#8e0152"
            ],
            [
             0.1,
             "#c51b7d"
            ],
            [
             0.2,
             "#de77ae"
            ],
            [
             0.3,
             "#f1b6da"
            ],
            [
             0.4,
             "#fde0ef"
            ],
            [
             0.5,
             "#f7f7f7"
            ],
            [
             0.6,
             "#e6f5d0"
            ],
            [
             0.7,
             "#b8e186"
            ],
            [
             0.8,
             "#7fbc41"
            ],
            [
             0.9,
             "#4d9221"
            ],
            [
             1,
             "#276419"
            ]
           ],
           "sequential": [
            [
             0,
             "#0d0887"
            ],
            [
             0.1111111111111111,
             "#46039f"
            ],
            [
             0.2222222222222222,
             "#7201a8"
            ],
            [
             0.3333333333333333,
             "#9c179e"
            ],
            [
             0.4444444444444444,
             "#bd3786"
            ],
            [
             0.5555555555555556,
             "#d8576b"
            ],
            [
             0.6666666666666666,
             "#ed7953"
            ],
            [
             0.7777777777777778,
             "#fb9f3a"
            ],
            [
             0.8888888888888888,
             "#fdca26"
            ],
            [
             1,
             "#f0f921"
            ]
           ],
           "sequentialminus": [
            [
             0,
             "#0d0887"
            ],
            [
             0.1111111111111111,
             "#46039f"
            ],
            [
             0.2222222222222222,
             "#7201a8"
            ],
            [
             0.3333333333333333,
             "#9c179e"
            ],
            [
             0.4444444444444444,
             "#bd3786"
            ],
            [
             0.5555555555555556,
             "#d8576b"
            ],
            [
             0.6666666666666666,
             "#ed7953"
            ],
            [
             0.7777777777777778,
             "#fb9f3a"
            ],
            [
             0.8888888888888888,
             "#fdca26"
            ],
            [
             1,
             "#f0f921"
            ]
           ]
          },
          "colorway": [
           "#636efa",
           "#EF553B",
           "#00cc96",
           "#ab63fa",
           "#FFA15A",
           "#19d3f3",
           "#FF6692",
           "#B6E880",
           "#FF97FF",
           "#FECB52"
          ],
          "font": {
           "color": "#2a3f5f"
          },
          "geo": {
           "bgcolor": "white",
           "lakecolor": "white",
           "landcolor": "#E5ECF6",
           "showlakes": true,
           "showland": true,
           "subunitcolor": "white"
          },
          "hoverlabel": {
           "align": "left"
          },
          "hovermode": "closest",
          "mapbox": {
           "style": "light"
          },
          "paper_bgcolor": "white",
          "plot_bgcolor": "#E5ECF6",
          "polar": {
           "angularaxis": {
            "gridcolor": "white",
            "linecolor": "white",
            "ticks": ""
           },
           "bgcolor": "#E5ECF6",
           "radialaxis": {
            "gridcolor": "white",
            "linecolor": "white",
            "ticks": ""
           }
          },
          "scene": {
           "xaxis": {
            "backgroundcolor": "#E5ECF6",
            "gridcolor": "white",
            "gridwidth": 2,
            "linecolor": "white",
            "showbackground": true,
            "ticks": "",
            "zerolinecolor": "white"
           },
           "yaxis": {
            "backgroundcolor": "#E5ECF6",
            "gridcolor": "white",
            "gridwidth": 2,
            "linecolor": "white",
            "showbackground": true,
            "ticks": "",
            "zerolinecolor": "white"
           },
           "zaxis": {
            "backgroundcolor": "#E5ECF6",
            "gridcolor": "white",
            "gridwidth": 2,
            "linecolor": "white",
            "showbackground": true,
            "ticks": "",
            "zerolinecolor": "white"
           }
          },
          "shapedefaults": {
           "line": {
            "color": "#2a3f5f"
           }
          },
          "ternary": {
           "aaxis": {
            "gridcolor": "white",
            "linecolor": "white",
            "ticks": ""
           },
           "baxis": {
            "gridcolor": "white",
            "linecolor": "white",
            "ticks": ""
           },
           "bgcolor": "#E5ECF6",
           "caxis": {
            "gridcolor": "white",
            "linecolor": "white",
            "ticks": ""
           }
          },
          "title": {
           "x": 0.05
          },
          "xaxis": {
           "automargin": true,
           "gridcolor": "white",
           "linecolor": "white",
           "ticks": "",
           "title": {
            "standoff": 15
           },
           "zerolinecolor": "white",
           "zerolinewidth": 2
          },
          "yaxis": {
           "automargin": true,
           "gridcolor": "white",
           "linecolor": "white",
           "ticks": "",
           "title": {
            "standoff": 15
           },
           "zerolinecolor": "white",
           "zerolinewidth": 2
          }
         }
        },
        "title": {
         "text": "Macierz korelacji"
        },
        "xaxis": {
         "anchor": "y",
         "constrain": "domain",
         "domain": [
          0,
          1
         ],
         "scaleanchor": "y"
        },
        "yaxis": {
         "anchor": "x",
         "autorange": "reversed",
         "constrain": "domain",
         "domain": [
          0,
          1
         ]
        }
       }
      }
     },
     "metadata": {},
     "output_type": "display_data"
    }
   ],
   "source": [
    "import plotly.express as px\n",
    "df1 = df.drop(columns=['link','name'])\n",
    "correlation_matrix = df1.corr()\n",
    "\n",
    "fig = px.imshow(correlation_matrix, text_auto=True, title=\"Macierz korelacji\")\n",
    "fig.show()"
   ]
  },
  {
   "cell_type": "markdown",
   "metadata": {},
   "source": [
    "Na powyższym wykresie można zobaczyć że cena wykazuje dodatnią korelację z width, width_opened_doors, capacity i depth.\n",
    "Zużycie prądu, szerokość i głębokość są skorelowane z pojemnością. I wiele innych."
   ]
  },
  {
   "cell_type": "markdown",
   "metadata": {},
   "source": [
    "# 5. Modelowanie\n",
    "# 5.1 Porównanie regresji, drzewa decyzyjnego oraz lasu losowego"
   ]
  },
  {
   "cell_type": "code",
   "execution_count": 204,
   "metadata": {},
   "outputs": [
    {
     "name": "stdout",
     "output_type": "stream",
     "text": [
      "R² dla regresji liniowej: 0.5085\n"
     ]
    }
   ],
   "source": [
    "from sklearn.model_selection import train_test_split\n",
    "from sklearn.metrics import r2_score\n",
    "\n",
    "X = df[['fridge_cap', 'freezer_cap', 'no_frost', 'energy_class', 'has_bespoke_panel', 'annual_power_consumption', 'height', 'width', 'depth']]\n",
    "y = df['price']\n",
    "\n",
    "X_train, X_test, y_train, y_test = train_test_split(X, y, test_size=0.2, random_state=42)\n",
    "\n",
    "\n",
    "lin_reg = LinearRegression()\n",
    "lin_reg.fit(X_train, y_train)\n",
    "\n",
    "y_pred_lin = lin_reg.predict(X_test)\n",
    "\n",
    "r2_lin = r2_score(y_test, y_pred_lin)\n",
    "print(f\"R² dla regresji liniowej: {r2_lin:.4f}\")\n",
    "\n"
   ]
  },
  {
   "cell_type": "code",
   "execution_count": 205,
   "metadata": {},
   "outputs": [
    {
     "name": "stdout",
     "output_type": "stream",
     "text": [
      "R² dla drzewa decyzyjnego: 0.6854\n"
     ]
    }
   ],
   "source": [
    "from sklearn.tree import DecisionTreeRegressor\n",
    "\n",
    "tree_reg = DecisionTreeRegressor(max_depth=5, random_state=42)\n",
    "tree_reg.fit(X_train, y_train)\n",
    "\n",
    "y_pred_tree = tree_reg.predict(X_test)\n",
    "\n",
    "r2_tree = r2_score(y_test, y_pred_tree)\n",
    "print(f\"R² dla drzewa decyzyjnego: {r2_tree:.4f}\")"
   ]
  },
  {
   "cell_type": "code",
   "execution_count": 206,
   "metadata": {},
   "outputs": [
    {
     "name": "stdout",
     "output_type": "stream",
     "text": [
      "R² dla lasu losowego: 0.7183\n"
     ]
    }
   ],
   "source": [
    "from sklearn.ensemble import RandomForestRegressor\n",
    "\n",
    "rf_reg = RandomForestRegressor(n_estimators=100, random_state=42)\n",
    "rf_reg.fit(X_train, y_train)\n",
    "\n",
    "y_pred_rf = rf_reg.predict(X_test)\n",
    "\n",
    "r2_rf = r2_score(y_test, y_pred_rf)\n",
    "print(f\"R² dla lasu losowego: {r2_rf:.4f}\")\n"
   ]
  },
  {
   "cell_type": "markdown",
   "metadata": {},
   "source": [
    "Na podstawie parametru r2 można stwierdzić że random forrest przewiduje cene lodowki najlepiej.\n",
    "Możemy sprawdzić na lodówce o wymyślonych parametrach"
   ]
  },
  {
   "cell_type": "code",
   "execution_count": 214,
   "metadata": {},
   "outputs": [
    {
     "data": {
      "text/plain": [
       "array([3740.25329])"
      ]
     },
     "execution_count": 214,
     "metadata": {},
     "output_type": "execute_result"
    }
   ],
   "source": [
    "\n",
    "new_fridge = pd.DataFrame({\n",
    "    'fridge_cap': [150],\n",
    "    'freezer_cap': [100],\n",
    "    'no_frost': [1],\n",
    "    'energy_class': [3],\n",
    "    'has_bespoke_panel': [0],\n",
    "    'annual_power_consumption': [210],\n",
    "    # 'db': [38],\n",
    "    'height': [190],\n",
    "    'width': [70],\n",
    "    'depth': [65]\n",
    "})\n",
    "\n",
    "rf_reg.predict(new_fridge)"
   ]
  },
  {
   "cell_type": "markdown",
   "metadata": {},
   "source": [
    "### Otrzymaliśmy model który na podstawie parametrów potrafi określić cenę lodówki"
   ]
  },
  {
   "cell_type": "code",
   "execution_count": 8,
   "metadata": {},
   "outputs": [
    {
     "data": {
      "image/png": "[encoded data removed]",
      "text/plain": [
       "<Figure size 1000x600 with 1 Axes>"
      ]
     },
     "metadata": {},
     "output_type": "display_data"
    }
   ],
   "source": [
    "plt.figure(figsize=(10, 6))\n",
    "sns.regplot(x=y_test, y=y_pred, scatter_kws={'alpha':0.3})\n",
    "plt.title(\"Wyniki regresji: R²\")\n",
    "plt.xlabel(\"Prawdziwe wartości\")\n",
    "plt.ylabel(\"Predykowane wartości\")\n",
    "plt.show()"
   ]
  },
  {
   "cell_type": "code",
   "execution_count": null,
   "metadata": {},
   "outputs": [],
   "source": []
  }
 ],
 "metadata": {
  "kernelspec": {
   "display_name": ".venv",
   "language": "python",
   "name": "python3"
  },
  "language_info": {
   "codemirror_mode": {
    "name": "ipython",
    "version": 3
   },
   "file_extension": ".py",
   "mimetype": "text/x-python",
   "name": "python",
   "nbconvert_exporter": "python",
   "pygments_lexer": "ipython3",
   "version": "3.13.1"
  }
 },
 "nbformat": 4,
 "nbformat_minor": 2
}
